{
  "cells": [
    {
      "cell_type": "markdown",
      "metadata": {
        "id": "bccLSbws5NvS"
      },
      "source": [
        "# BERT - TensorFlow 2 & Hugging Face Transformers Library"
      ]
    },
    {
      "cell_type": "code",
      "execution_count": null,
      "metadata": {
        "colab": {
          "base_uri": "https://localhost:8080/"
        },
        "id": "CVLcstSzNxvf",
        "outputId": "01842a62-5e9c-4a96-91a2-12e539ecb5d4"
      },
      "outputs": [
        {
          "name": "stdout",
          "output_type": "stream",
          "text": [
            "Mounted at /content/drive\n"
          ]
        }
      ],
      "source": [
        "from google.colab import drive\n",
        "drive.mount('/content/drive')"
      ]
    },
    {
      "cell_type": "code",
      "execution_count": null,
      "metadata": {
        "colab": {
          "base_uri": "https://localhost:8080/"
        },
        "id": "SuY02mplBrDy",
        "outputId": "bf7ae6d6-308b-44cc-81bb-e77b34ce62cc"
      },
      "outputs": [
        {
          "name": "stdout",
          "output_type": "stream",
          "text": [
            "\u001b[K     |████████████████████████████████| 447 kB 35.4 MB/s \n",
            "\u001b[K     |████████████████████████████████| 1.2 MB 58.6 MB/s \n",
            "\u001b[K     |████████████████████████████████| 880 kB 58.9 MB/s \n",
            "\u001b[K     |████████████████████████████████| 132 kB 64.9 MB/s \n",
            "\u001b[K     |████████████████████████████████| 79 kB 9.9 MB/s \n",
            "\u001b[K     |████████████████████████████████| 9.0 MB 56.6 MB/s \n",
            "\u001b[K     |████████████████████████████████| 139 kB 68.8 MB/s \n",
            "\u001b[K     |████████████████████████████████| 127 kB 75.2 MB/s \n",
            "\u001b[?25h  Building wheel for sacremoses (setup.py) ... \u001b[?25l\u001b[?25hdone\n",
            "\u001b[31mERROR: pip's dependency resolver does not currently take into account all the packages that are installed. This behaviour is the source of the following dependency conflicts.\n",
            "datascience 0.10.6 requires folium==0.2.1, but you have folium 0.8.3 which is incompatible.\u001b[0m\n"
          ]
        }
      ],
      "source": [
        "!pip install transformers==2.3.0 -q"
      ]
    },
    {
      "cell_type": "code",
      "execution_count": null,
      "metadata": {
        "id": "5udIfxGP5Nvc"
      },
      "outputs": [],
      "source": [
        "dataset_directory = '/content/drive/MyDrive/temp/train.csv'"
      ]
    },
    {
      "cell_type": "code",
      "execution_count": null,
      "metadata": {
        "id": "aGa2jmNmCjXf"
      },
      "outputs": [],
      "source": [
        "from tqdm.notebook import tqdm\n",
        "import numpy as np\n",
        "import pandas as pd\n",
        "import tensorflow as tf"
      ]
    },
    {
      "cell_type": "code",
      "execution_count": null,
      "metadata": {
        "id": "dmvZUL__yFUL"
      },
      "outputs": [],
      "source": []
    },
    {
      "cell_type": "markdown",
      "metadata": {
        "id": "puW7b5O05Nvd"
      },
      "source": [
        "## 1. Data Pipeline\n",
        "- Loading the datasets from CSVs\n",
        "- Preprocessing (Tokenization, Truncation & Padding)\n",
        "- Creating efficient data pipelines using tf.data"
      ]
    },
    {
      "cell_type": "code",
      "execution_count": null,
      "metadata": {
        "id": "nRSU059mk51O"
      },
      "outputs": [],
      "source": [
        "# !unzip /content/drive-download-20220717T191232Z-001.zip"
      ]
    },
    {
      "cell_type": "code",
      "execution_count": null,
      "metadata": {
        "id": "5FuPBMEX_Lxv"
      },
      "outputs": [],
      "source": [
        "train_path = '/content/drive/MyDrive/temp/train.csv'\n",
        "test_path = '/content/drive/MyDrive/temp/train.csv'\n",
        "#test_labels_path = 'data/test_labels.csv'\n",
        "#subm_path = 'data/sample_submission.csv'"
      ]
    },
    {
      "cell_type": "code",
      "execution_count": null,
      "metadata": {
        "colab": {
          "base_uri": "https://localhost:8080/",
          "height": 206
        },
        "id": "50uZZZzH_NDV",
        "outputId": "f7ec7df4-efa4-40cd-fc46-cf0fbcd10ead"
      },
      "outputs": [
        {
          "data": {
            "text/html": [
              "\n",
              "  <div id=\"df-2022aa4a-9034-4a62-a648-ed0de0c92247\">\n",
              "    <div class=\"colab-df-container\">\n",
              "      <div>\n",
              "<style scoped>\n",
              "    .dataframe tbody tr th:only-of-type {\n",
              "        vertical-align: middle;\n",
              "    }\n",
              "\n",
              "    .dataframe tbody tr th {\n",
              "        vertical-align: top;\n",
              "    }\n",
              "\n",
              "    .dataframe thead th {\n",
              "        text-align: right;\n",
              "    }\n",
              "</style>\n",
              "<table border=\"1\" class=\"dataframe\">\n",
              "  <thead>\n",
              "    <tr style=\"text-align: right;\">\n",
              "      <th></th>\n",
              "      <th>id</th>\n",
              "      <th>comment_text</th>\n",
              "      <th>toxic</th>\n",
              "      <th>severe_toxic</th>\n",
              "      <th>obscene</th>\n",
              "      <th>threat</th>\n",
              "      <th>insult</th>\n",
              "      <th>identity_hate</th>\n",
              "    </tr>\n",
              "  </thead>\n",
              "  <tbody>\n",
              "    <tr>\n",
              "      <th>0</th>\n",
              "      <td>0000997932d777bf</td>\n",
              "      <td>Explanation\\nWhy the edits made under my usern...</td>\n",
              "      <td>0</td>\n",
              "      <td>0</td>\n",
              "      <td>0</td>\n",
              "      <td>0</td>\n",
              "      <td>0</td>\n",
              "      <td>0</td>\n",
              "    </tr>\n",
              "    <tr>\n",
              "      <th>1</th>\n",
              "      <td>000103f0d9cfb60f</td>\n",
              "      <td>D'aww! He matches this background colour I'm s...</td>\n",
              "      <td>0</td>\n",
              "      <td>0</td>\n",
              "      <td>0</td>\n",
              "      <td>0</td>\n",
              "      <td>0</td>\n",
              "      <td>0</td>\n",
              "    </tr>\n",
              "    <tr>\n",
              "      <th>2</th>\n",
              "      <td>000113f07ec002fd</td>\n",
              "      <td>Hey man, I'm really not trying to edit war. It...</td>\n",
              "      <td>0</td>\n",
              "      <td>0</td>\n",
              "      <td>0</td>\n",
              "      <td>0</td>\n",
              "      <td>0</td>\n",
              "      <td>0</td>\n",
              "    </tr>\n",
              "    <tr>\n",
              "      <th>3</th>\n",
              "      <td>0001b41b1c6bb37e</td>\n",
              "      <td>\"\\nMore\\nI can't make any real suggestions on ...</td>\n",
              "      <td>0</td>\n",
              "      <td>0</td>\n",
              "      <td>0</td>\n",
              "      <td>0</td>\n",
              "      <td>0</td>\n",
              "      <td>0</td>\n",
              "    </tr>\n",
              "    <tr>\n",
              "      <th>4</th>\n",
              "      <td>0001d958c54c6e35</td>\n",
              "      <td>You, sir, are my hero. Any chance you remember...</td>\n",
              "      <td>0</td>\n",
              "      <td>0</td>\n",
              "      <td>0</td>\n",
              "      <td>0</td>\n",
              "      <td>0</td>\n",
              "      <td>0</td>\n",
              "    </tr>\n",
              "  </tbody>\n",
              "</table>\n",
              "</div>\n",
              "      <button class=\"colab-df-convert\" onclick=\"convertToInteractive('df-2022aa4a-9034-4a62-a648-ed0de0c92247')\"\n",
              "              title=\"Convert this dataframe to an interactive table.\"\n",
              "              style=\"display:none;\">\n",
              "        \n",
              "  <svg xmlns=\"http://www.w3.org/2000/svg\" height=\"24px\"viewBox=\"0 0 24 24\"\n",
              "       width=\"24px\">\n",
              "    <path d=\"M0 0h24v24H0V0z\" fill=\"none\"/>\n",
              "    <path d=\"M18.56 5.44l.94 2.06.94-2.06 2.06-.94-2.06-.94-.94-2.06-.94 2.06-2.06.94zm-11 1L8.5 8.5l.94-2.06 2.06-.94-2.06-.94L8.5 2.5l-.94 2.06-2.06.94zm10 10l.94 2.06.94-2.06 2.06-.94-2.06-.94-.94-2.06-.94 2.06-2.06.94z\"/><path d=\"M17.41 7.96l-1.37-1.37c-.4-.4-.92-.59-1.43-.59-.52 0-1.04.2-1.43.59L10.3 9.45l-7.72 7.72c-.78.78-.78 2.05 0 2.83L4 21.41c.39.39.9.59 1.41.59.51 0 1.02-.2 1.41-.59l7.78-7.78 2.81-2.81c.8-.78.8-2.07 0-2.86zM5.41 20L4 18.59l7.72-7.72 1.47 1.35L5.41 20z\"/>\n",
              "  </svg>\n",
              "      </button>\n",
              "      \n",
              "  <style>\n",
              "    .colab-df-container {\n",
              "      display:flex;\n",
              "      flex-wrap:wrap;\n",
              "      gap: 12px;\n",
              "    }\n",
              "\n",
              "    .colab-df-convert {\n",
              "      background-color: #E8F0FE;\n",
              "      border: none;\n",
              "      border-radius: 50%;\n",
              "      cursor: pointer;\n",
              "      display: none;\n",
              "      fill: #1967D2;\n",
              "      height: 32px;\n",
              "      padding: 0 0 0 0;\n",
              "      width: 32px;\n",
              "    }\n",
              "\n",
              "    .colab-df-convert:hover {\n",
              "      background-color: #E2EBFA;\n",
              "      box-shadow: 0px 1px 2px rgba(60, 64, 67, 0.3), 0px 1px 3px 1px rgba(60, 64, 67, 0.15);\n",
              "      fill: #174EA6;\n",
              "    }\n",
              "\n",
              "    [theme=dark] .colab-df-convert {\n",
              "      background-color: #3B4455;\n",
              "      fill: #D2E3FC;\n",
              "    }\n",
              "\n",
              "    [theme=dark] .colab-df-convert:hover {\n",
              "      background-color: #434B5C;\n",
              "      box-shadow: 0px 1px 3px 1px rgba(0, 0, 0, 0.15);\n",
              "      filter: drop-shadow(0px 1px 2px rgba(0, 0, 0, 0.3));\n",
              "      fill: #FFFFFF;\n",
              "    }\n",
              "  </style>\n",
              "\n",
              "      <script>\n",
              "        const buttonEl =\n",
              "          document.querySelector('#df-2022aa4a-9034-4a62-a648-ed0de0c92247 button.colab-df-convert');\n",
              "        buttonEl.style.display =\n",
              "          google.colab.kernel.accessAllowed ? 'block' : 'none';\n",
              "\n",
              "        async function convertToInteractive(key) {\n",
              "          const element = document.querySelector('#df-2022aa4a-9034-4a62-a648-ed0de0c92247');\n",
              "          const dataTable =\n",
              "            await google.colab.kernel.invokeFunction('convertToInteractive',\n",
              "                                                     [key], {});\n",
              "          if (!dataTable) return;\n",
              "\n",
              "          const docLinkHtml = 'Like what you see? Visit the ' +\n",
              "            '<a target=\"_blank\" href=https://colab.research.google.com/notebooks/data_table.ipynb>data table notebook</a>'\n",
              "            + ' to learn more about interactive tables.';\n",
              "          element.innerHTML = '';\n",
              "          dataTable['output_type'] = 'display_data';\n",
              "          await google.colab.output.renderOutput(dataTable, element);\n",
              "          const docLink = document.createElement('div');\n",
              "          docLink.innerHTML = docLinkHtml;\n",
              "          element.appendChild(docLink);\n",
              "        }\n",
              "      </script>\n",
              "    </div>\n",
              "  </div>\n",
              "  "
            ],
            "text/plain": [
              "                 id                                       comment_text  toxic  \\\n",
              "0  0000997932d777bf  Explanation\\nWhy the edits made under my usern...      0   \n",
              "1  000103f0d9cfb60f  D'aww! He matches this background colour I'm s...      0   \n",
              "2  000113f07ec002fd  Hey man, I'm really not trying to edit war. It...      0   \n",
              "3  0001b41b1c6bb37e  \"\\nMore\\nI can't make any real suggestions on ...      0   \n",
              "4  0001d958c54c6e35  You, sir, are my hero. Any chance you remember...      0   \n",
              "\n",
              "   severe_toxic  obscene  threat  insult  identity_hate  \n",
              "0             0        0       0       0              0  \n",
              "1             0        0       0       0              0  \n",
              "2             0        0       0       0              0  \n",
              "3             0        0       0       0              0  \n",
              "4             0        0       0       0              0  "
            ]
          },
          "execution_count": 9,
          "metadata": {},
          "output_type": "execute_result"
        }
      ],
      "source": [
        "label_cols = ['toxic', 'severe_toxic', 'obscene', 'threat',\n",
        "       'insult', 'identity_hate']\n",
        "       \n",
        "df_train = pd.read_csv(train_path)\n",
        "df_test = pd.read_csv(test_path)\n",
        "# df_test_labels = pd.read_csv(test_labels_path)\n",
        "# df_test_labels = df_test_labels.set_index('id')\n",
        "# df_train.drop([\"original\",\"genre\",\"split\"], axis=1, inplace=True)\n",
        "# df_test.drop([\"original\",\"genre\",\"split\"], axis=1, inplace=True)\n",
        "df_train.head()"
      ]
    },
    {
      "cell_type": "code",
      "execution_count": null,
      "metadata": {
        "colab": {
          "base_uri": "https://localhost:8080/"
        },
        "id": "jSzR7cZ-IewH",
        "outputId": "f0a0a41f-8ab8-43d5-dc03-758e54267a09"
      },
      "outputs": [
        {
          "data": {
            "text/plain": [
              "Index(['id', 'comment_text', 'toxic', 'severe_toxic', 'obscene', 'threat',\n",
              "       'insult', 'identity_hate'],\n",
              "      dtype='object')"
            ]
          },
          "execution_count": 8,
          "metadata": {},
          "output_type": "execute_result"
        }
      ],
      "source": [
        "df_train.columns"
      ]
    },
    {
      "cell_type": "code",
      "execution_count": null,
      "metadata": {
        "colab": {
          "base_uri": "https://localhost:8080/",
          "height": 49,
          "referenced_widgets": [
            "0698c0e63e4d43859898af87aa148dbd",
            "e692d8a0d1c34dfdaf9764a3a2ffac2c",
            "46ad9054ec0942be9ea4451dfcda68b4",
            "6e10446538e94b5288a779286d85cd2e",
            "20283bacdb5344d682fd58f77c63a364",
            "ba006d8bac9445d487c775a54f256893",
            "198a41f4917b45deaec7ebcc0deb9032",
            "7982815811c54f7094ca5f53721f2be0",
            "5a19229fcc564e39b9a69fe4b7dd28fb",
            "ed68bdda26374e61840469fb01c19d9e",
            "401319a1793644f2a7c9563d16486f5b"
          ]
        },
        "id": "g-8WnPfD_35q",
        "outputId": "03a2dbec-8310-42eb-e783-b7ef6e7db717"
      },
      "outputs": [
        {
          "data": {
            "application/vnd.jupyter.widget-view+json": {
              "model_id": "0698c0e63e4d43859898af87aa148dbd",
              "version_major": 2,
              "version_minor": 0
            },
            "text/plain": [
              "  0%|          | 0/159571 [00:00<?, ?it/s]"
            ]
          },
          "metadata": {},
          "output_type": "display_data"
        }
      ],
      "source": [
        "from transformers import BertTokenizer\n",
        "from keras.preprocessing.sequence import pad_sequences\n",
        "\n",
        "bert_model_name = 'bert-base-uncased'\n",
        "\n",
        "tokenizer = BertTokenizer.from_pretrained(bert_model_name, do_lower_case=True)\n",
        "MAX_LEN = 128\n",
        "\n",
        "def tokenize_sentences(sentences, tokenizer, max_seq_len = 128):\n",
        "    tokenized_sentences = []\n",
        "\n",
        "    for sentence in tqdm(sentences):\n",
        "        tokenized_sentence = tokenizer.encode(\n",
        "                            sentence,                  # Sentence to encode.\n",
        "                            add_special_tokens = True, # Add '[CLS]' and '[SEP]'\n",
        "                            max_length = max_seq_len,  # Truncate all sentences.\n",
        "                    )\n",
        "        \n",
        "        tokenized_sentences.append(tokenized_sentence)\n",
        "\n",
        "    return tokenized_sentences\n",
        "\n",
        "def create_attention_masks(tokenized_and_padded_sentences):\n",
        "    attention_masks = []\n",
        "\n",
        "    for sentence in tokenized_and_padded_sentences:\n",
        "        att_mask = [int(token_id > 0) for token_id in sentence]\n",
        "        attention_masks.append(att_mask)\n",
        "\n",
        "    return np.asarray(attention_masks)\n",
        "\n",
        "input_ids = tokenize_sentences(df_train['comment_text'], tokenizer, MAX_LEN)\n",
        "input_ids = pad_sequences(input_ids, maxlen=MAX_LEN, dtype=\"long\", value=0, truncating=\"post\", padding=\"post\")\n",
        "attention_masks = create_attention_masks(input_ids)"
      ]
    },
    {
      "cell_type": "code",
      "execution_count": null,
      "metadata": {
        "id": "bMumeio9FFds"
      },
      "outputs": [],
      "source": [
        "from sklearn.model_selection import train_test_split\n",
        "\n",
        "labels =  df_train[label_cols].values\n",
        "\n",
        "train_inputs, validation_inputs, train_labels, validation_labels = train_test_split(input_ids, labels, random_state=0, test_size=0.1)\n",
        "train_masks, validation_masks, _, _ = train_test_split(attention_masks, labels, random_state=0, test_size=0.1)\n",
        "\n",
        "train_size = len(train_inputs)\n",
        "validation_size = len(validation_inputs)"
      ]
    },
    {
      "cell_type": "code",
      "execution_count": null,
      "metadata": {
        "id": "H99t9YNDFcRq"
      },
      "outputs": [],
      "source": [
        "BATCH_SIZE = 32\n",
        "NR_EPOCHS = 1\n",
        "\n",
        "def create_dataset(data_tuple, epochs=1, batch_size=32, buffer_size=10000, train=True):\n",
        "    dataset = tf.data.Dataset.from_tensor_slices(data_tuple)\n",
        "    if train:\n",
        "        dataset = dataset.shuffle(buffer_size=buffer_size)\n",
        "    dataset = dataset.repeat(epochs)\n",
        "    dataset = dataset.batch(batch_size)\n",
        "    if train:\n",
        "        dataset = dataset.prefetch(1)\n",
        "    \n",
        "    return dataset\n",
        "\n",
        "train_dataset = create_dataset((train_inputs, train_masks, train_labels), epochs=NR_EPOCHS, batch_size=BATCH_SIZE)\n",
        "validation_dataset = create_dataset((validation_inputs, validation_masks, validation_labels), epochs=NR_EPOCHS, batch_size=BATCH_SIZE)"
      ]
    },
    {
      "cell_type": "markdown",
      "metadata": {
        "id": "yO19e3r35Nvh"
      },
      "source": [
        "## 2. BERT Model\n",
        "- Load the pretrained BERT base-model from Transformers library\n",
        "- Take the first hidden-state from BERT output (corresponding to CLS token) and feed it into a Dense layer with 6 neurons and sigmoid activation (Classifier). The outputs of this layer can be interpreted as probabilities for each of the 6 classes."
      ]
    },
    {
      "cell_type": "code",
      "execution_count": null,
      "metadata": {
        "id": "3Zp6X7meF_T5"
      },
      "outputs": [],
      "source": [
        "from transformers import TFBertModel\n",
        "from tensorflow.keras.layers import Dense, Flatten\n",
        "\n",
        "class BertClassifier(tf.keras.Model):    \n",
        "    def __init__(self, bert: TFBertModel, num_classes: int):\n",
        "        super().__init__()\n",
        "        self.bert = bert\n",
        "        self.classifier = Dense(num_classes, activation='sigmoid')\n",
        "        \n",
        "    @tf.function\n",
        "    def call(self, input_ids, attention_mask=None, token_type_ids=None, position_ids=None, head_mask=None):\n",
        "        outputs = self.bert(input_ids,\n",
        "                               attention_mask=attention_mask,\n",
        "                               token_type_ids=token_type_ids,\n",
        "                               position_ids=position_ids,\n",
        "                               head_mask=head_mask)\n",
        "        cls_output = outputs[1]\n",
        "        cls_output = self.classifier(cls_output)\n",
        "                \n",
        "        return cls_output\n",
        "\n",
        "model = BertClassifier(TFBertModel.from_pretrained(bert_model_name), len(label_cols))"
      ]
    },
    {
      "cell_type": "markdown",
      "metadata": {
        "id": "3i7wrAot5Nvi"
      },
      "source": [
        "## 3. Training Loop\n",
        "- Use BinaryCrossentropy as loss function (is calculated for each of the output 6 output neurons ...that's like training 6 binary classification tasks at the same time) \n",
        "- Use the AdamW optimizer with 1-cycle-policy from the Transformers library\n",
        "- AUC evaluation metrics"
      ]
    },
    {
      "cell_type": "code",
      "execution_count": null,
      "metadata": {
        "colab": {
          "base_uri": "https://localhost:8080/",
          "height": 1000,
          "referenced_widgets": [
            "4ba36a920b674c79ba44e44f162fb8d0",
            "5c773bbf105845fc868a9fa6eb5c4fde",
            "ade0674226004f77836ae7f78bbe5d43",
            "4477cc528307484b85043b7152a4c363",
            "d133c2d49ca14209a302e0155f55af52",
            "4cbe04444f19478994d070d884071d3b",
            "c916e61c0d274be280b1b27613bd5224",
            "ec8fab03e5874ecaa5cbfa71a9eed1be",
            "2100df4e99b04c9890f110b6a59f7b83",
            "d50167b9568b40edb4dab2b7af7b9404",
            "630a8e0322f14a3f89d149941ae61d42",
            "d630a4caeca14c5cbc019a2a6e02ded6",
            "8feeb35357ee4d63831b06c32065eb02",
            "46449d38e3c345cd81764d65af321c73",
            "be5d87eaf1d4408996ae0ed647c951e9",
            "3b33d865a4e5464eb22e0981739ce081",
            "0a284ab45f50432cbc19c5c42c9846ab",
            "cbe72d5bd0964400af182940ac7700d6",
            "98c5c06c5eb247179b23eb0c5054169a",
            "dad9019fbe584fbebec5a28a4d636cfa",
            "dcbb7ab52c3943ec90ad451382cc93ae",
            "0018016355954a2d9a8a0e1185802a55"
          ]
        },
        "id": "cJsVaX4qqoM0",
        "outputId": "4f2df119-a5e2-4088-a9a7-82281e21a342"
      },
      "outputs": [
        {
          "name": "stdout",
          "output_type": "stream",
          "text": [
            "================================================== EPOCH 0 ==================================================\n"
          ]
        },
        {
          "data": {
            "application/vnd.jupyter.widget-view+json": {
              "model_id": "4ba36a920b674c79ba44e44f162fb8d0",
              "version_major": 2,
              "version_minor": 0
            },
            "text/plain": [
              "  0%|          | 0/4487 [00:00<?, ?it/s]"
            ]
          },
          "metadata": {},
          "output_type": "display_data"
        },
        {
          "name": "stdout",
          "output_type": "stream",
          "text": [
            "\n",
            "Train Step: 0, Loss: 0.8150482177734375\n",
            "toxic roc_auc 0.5848214626312256\n",
            "severe_toxic roc_auc 0.0\n",
            "obscene roc_auc 0.6774193644523621\n",
            "threat roc_auc 0.0\n",
            "insult roc_auc 0.16129031777381897\n",
            "identity_hate roc_auc 0.0\n",
            "\n",
            "Train Step: 1000, Loss: 0.1602817326784134\n",
            "toxic roc_auc 0.911155641078949\n",
            "severe_toxic roc_auc 0.8838526606559753\n",
            "obscene roc_auc 0.8998681902885437\n",
            "threat roc_auc 0.7615116834640503\n",
            "insult roc_auc 0.9084868431091309\n",
            "identity_hate roc_auc 0.7844926118850708\n",
            "\n",
            "Train Step: 2000, Loss: 0.1009809821844101\n",
            "toxic roc_auc 0.980647623538971\n",
            "severe_toxic roc_auc 0.9884923100471497\n",
            "obscene roc_auc 0.9879279136657715\n",
            "threat roc_auc 0.9603656530380249\n",
            "insult roc_auc 0.9844100475311279\n",
            "identity_hate roc_auc 0.9683650135993958\n",
            "\n",
            "Train Step: 3000, Loss: 0.08058936893939972\n",
            "toxic roc_auc 0.9842858910560608\n",
            "severe_toxic roc_auc 0.986116349697113\n",
            "obscene roc_auc 0.9906655550003052\n",
            "threat roc_auc 0.935275137424469\n",
            "insult roc_auc 0.9860646724700928\n",
            "identity_hate roc_auc 0.9839714765548706\n",
            "\n",
            "Train Step: 4000, Loss: 0.06987758725881577\n",
            "toxic roc_auc 0.9856761693954468\n",
            "severe_toxic roc_auc 0.9899110198020935\n",
            "obscene roc_auc 0.9901270270347595\n",
            "threat roc_auc 0.9743759632110596\n",
            "insult roc_auc 0.9877315759658813\n",
            "identity_hate roc_auc 0.9828338623046875\n"
          ]
        },
        {
          "data": {
            "application/vnd.jupyter.widget-view+json": {
              "model_id": "d630a4caeca14c5cbc019a2a6e02ded6",
              "version_major": 2,
              "version_minor": 0
            },
            "text/plain": [
              "  0%|          | 0/498 [00:00<?, ?it/s]"
            ]
          },
          "metadata": {},
          "output_type": "display_data"
        },
        {
          "name": "stdout",
          "output_type": "stream",
          "text": [
            "\n",
            "Epoch 1, Validation Loss: 0.0371781624853611, Time: 3639.825960636139\n",
            "\n",
            "toxic roc_auc 0.9884118437767029\n",
            "severe_toxic roc_auc 0.9878920316696167\n",
            "obscene roc_auc 0.9908899068832397\n",
            "threat roc_auc 0.9723553657531738\n",
            "insult roc_auc 0.9855911135673523\n",
            "identity_hate roc_auc 0.9765434861183167\n",
            "\n",
            "\n"
          ]
        }
      ],
      "source": [
        "import time\n",
        "from transformers import create_optimizer\n",
        "\n",
        "steps_per_epoch = train_size // BATCH_SIZE\n",
        "validation_steps = validation_size // BATCH_SIZE\n",
        "\n",
        "# | Loss Function\n",
        "loss_object = tf.keras.losses.BinaryCrossentropy(from_logits=False)\n",
        "train_loss = tf.keras.metrics.Mean(name='train_loss')\n",
        "validation_loss = tf.keras.metrics.Mean(name='test_loss')\n",
        "\n",
        "# | Optimizer (with 1-cycle-policy)\n",
        "warmup_steps = steps_per_epoch // 3\n",
        "total_steps = steps_per_epoch * NR_EPOCHS - warmup_steps\n",
        "optimizer = create_optimizer(init_lr=2e-5, num_train_steps=total_steps, num_warmup_steps=warmup_steps)\n",
        "\n",
        "# | Metrics\n",
        "train_auc_metrics = [tf.keras.metrics.AUC() for i in range(len(label_cols))]\n",
        "validation_auc_metrics = [tf.keras.metrics.AUC() for i in range(len(label_cols))]\n",
        "\n",
        "@tf.function\n",
        "def train_step(model, token_ids, masks, labels):\n",
        "    labels = tf.dtypes.cast(labels, tf.float32)\n",
        "\n",
        "    with tf.GradientTape() as tape:\n",
        "        predictions = model(token_ids, attention_mask=masks)\n",
        "        loss = loss_object(labels, predictions)\n",
        "\n",
        "    gradients = tape.gradient(loss, model.trainable_variables)\n",
        "    optimizer.apply_gradients(zip(gradients, model.trainable_variables), 1.0)\n",
        "\n",
        "    train_loss(loss)\n",
        "\n",
        "    for i, auc in enumerate(train_auc_metrics):\n",
        "        auc.update_state(labels[:,i], predictions[:,i])\n",
        "        \n",
        "@tf.function\n",
        "def validation_step(model, token_ids, masks, labels):\n",
        "    labels = tf.dtypes.cast(labels, tf.float32)\n",
        "\n",
        "    predictions = model(token_ids, attention_mask=masks, training=False)\n",
        "    v_loss = loss_object(labels, predictions)\n",
        "\n",
        "    validation_loss(v_loss)\n",
        "    for i, auc in enumerate(validation_auc_metrics):\n",
        "        auc.update_state(labels[:,i], predictions[:,i])\n",
        "                                              \n",
        "def train(model, train_dataset, val_dataset, train_steps_per_epoch, val_steps_per_epoch, epochs):\n",
        "    for epoch in range(epochs):\n",
        "        print('=' * 50, f\"EPOCH {epoch}\", '=' * 50)\n",
        "\n",
        "        start = time.time()\n",
        "\n",
        "        for i, (token_ids, masks, labels) in enumerate(tqdm(train_dataset, total=train_steps_per_epoch)):\n",
        "            train_step(model, token_ids, masks, labels)\n",
        "            if i % 1000 == 0:\n",
        "                print(f'\\nTrain Step: {i}, Loss: {train_loss.result()}')\n",
        "                for i, label_name in enumerate(label_cols):\n",
        "                    print(f\"{label_name} roc_auc {train_auc_metrics[i].result()}\")\n",
        "                    train_auc_metrics[i].reset_states()\n",
        "        \n",
        "        for i, (token_ids, masks, labels) in enumerate(tqdm(val_dataset, total=val_steps_per_epoch)):\n",
        "            validation_step(model, token_ids, masks, labels)\n",
        "\n",
        "        print(f'\\nEpoch {epoch+1}, Validation Loss: {validation_loss.result()}, Time: {time.time()-start}\\n')\n",
        "\n",
        "        for i, label_name in enumerate(label_cols):\n",
        "            print(f\"{label_name} roc_auc {validation_auc_metrics[i].result()}\")\n",
        "            validation_auc_metrics[i].reset_states()\n",
        "\n",
        "        print('\\n')\n",
        "\n",
        "        \n",
        "train(model, train_dataset, validation_dataset, train_steps_per_epoch=steps_per_epoch, val_steps_per_epoch=validation_steps, epochs=NR_EPOCHS)"
      ]
    },
    {
      "cell_type": "markdown",
      "metadata": {
        "id": "DH2s3A9W5Nvj"
      },
      "source": [
        "## 4. Run predictions on test-set"
      ]
    },
    {
      "cell_type": "code",
      "execution_count": null,
      "metadata": {
        "colab": {
          "base_uri": "https://localhost:8080/"
        },
        "id": "U81H5kIwN0HS",
        "outputId": "0564d0da-7523-4d60-d2d8-f1f2bc20f88e"
      },
      "outputs": [
        {
          "name": "stderr",
          "output_type": "stream",
          "text": [
            "WARNING:absl:Found untraced functions such as embeddings_layer_call_fn, embeddings_layer_call_and_return_conditional_losses, encoder_layer_call_fn, encoder_layer_call_and_return_conditional_losses, pooler_layer_call_fn while saving (showing 5 of 426). These functions will not be directly callable after loading.\n"
          ]
        },
        {
          "name": "stdout",
          "output_type": "stream",
          "text": [
            "INFO:tensorflow:Assets written to: ram://3e03a399-bfba-403f-8781-b181a174e5cf/assets\n"
          ]
        },
        {
          "name": "stderr",
          "output_type": "stream",
          "text": [
            "INFO:tensorflow:Assets written to: ram://3e03a399-bfba-403f-8781-b181a174e5cf/assets\n"
          ]
        }
      ],
      "source": [
        "import torch\n",
        "torch.save(model, '/content/drive/MyDrive/temp/bert_toxic')"
      ]
    },
    {
      "cell_type": "code",
      "execution_count": null,
      "metadata": {
        "colab": {
          "base_uri": "https://localhost:8080/"
        },
        "id": "NQy64T4mpFbo",
        "outputId": "43dc7679-cf33-4bae-89ea-7bf6b5c08e2b"
      },
      "outputs": [
        {
          "name": "stderr",
          "output_type": "stream",
          "text": [
            "WARNING:absl:Found untraced functions such as embeddings_layer_call_fn, embeddings_layer_call_and_return_conditional_losses, encoder_layer_call_fn, encoder_layer_call_and_return_conditional_losses, pooler_layer_call_fn while saving (showing 5 of 426). These functions will not be directly callable after loading.\n"
          ]
        },
        {
          "name": "stdout",
          "output_type": "stream",
          "text": [
            "INFO:tensorflow:Assets written to: /content/drive/MyDrive/temp/bert_toxic_2/assets\n"
          ]
        },
        {
          "name": "stderr",
          "output_type": "stream",
          "text": [
            "INFO:tensorflow:Assets written to: /content/drive/MyDrive/temp/bert_toxic_2/assets\n"
          ]
        }
      ],
      "source": [
        "model.save(\"/content/drive/MyDrive/temp/bert_toxic_2\")"
      ]
    },
    {
      "cell_type": "code",
      "execution_count": null,
      "metadata": {
        "id": "M1Hh2XeUpz7e"
      },
      "outputs": [],
      "source": [
        "test = pd.read_csv(\"/content/disaster_response_messages_validation.csv\")"
      ]
    },
    {
      "cell_type": "code",
      "execution_count": null,
      "metadata": {
        "id": "oJvN5XNtp-Go"
      },
      "outputs": [],
      "source": [
        "import torch\n",
        "DEVICE = \"cuda\"\n",
        "bert_model_name = 'bert-base-uncased'\n",
        "\n",
        "label_cols = ['toxic', 'severe_toxic', 'obscene', 'threat',\n",
        "       'insult', 'identity_hate']\n",
        "       \n",
        "\n",
        "MODEL = BertClassifier(TFBertModel.from_pretrained(bert_model_name), len(label_cols))"
      ]
    },
    {
      "cell_type": "code",
      "execution_count": null,
      "metadata": {
        "colab": {
          "base_uri": "https://localhost:8080/"
        },
        "id": "GlHd52guwo_a",
        "outputId": "e842dae3-4c12-4e59-81c3-b319c4e27018"
      },
      "outputs": [
        {
          "data": {
            "text/plain": [
              "<tensorflow.python.training.tracking.util.CheckpointLoadStatus at 0x7fbd3254d250>"
            ]
          },
          "execution_count": 12,
          "metadata": {},
          "output_type": "execute_result"
        }
      ],
      "source": [
        "MODEL.load_weights(\"/content/drive/MyDrive/temp/bert_toxic_2\")"
      ]
    },
    {
      "cell_type": "code",
      "execution_count": null,
      "metadata": {
        "colab": {
          "base_uri": "https://localhost:8080/",
          "height": 204
        },
        "id": "cdShHpPfH3es",
        "outputId": "03380b57-df78-4d27-94db-2c9e523543d6"
      },
      "outputs": [
        {
          "ename": "NameError",
          "evalue": "ignored",
          "output_type": "error",
          "traceback": [
            "\u001b[0;31m---------------------------------------------------------------------------\u001b[0m",
            "\u001b[0;31mNameError\u001b[0m                                 Traceback (most recent call last)",
            "\u001b[0;32m<ipython-input-13-effb487e0f59>\u001b[0m in \u001b[0;36m<module>\u001b[0;34m()\u001b[0m\n\u001b[0;32m----> 1\u001b[0;31m \u001b[0mtest_input_ids\u001b[0m \u001b[0;34m=\u001b[0m \u001b[0mtokenize_sentences\u001b[0m\u001b[0;34m(\u001b[0m\u001b[0;34m\"hello\"\u001b[0m\u001b[0;34m,\u001b[0m \u001b[0mtokenizer\u001b[0m\u001b[0;34m,\u001b[0m \u001b[0mMAX_LEN\u001b[0m\u001b[0;34m)\u001b[0m\u001b[0;34m\u001b[0m\u001b[0;34m\u001b[0m\u001b[0m\n\u001b[0m\u001b[1;32m      2\u001b[0m \u001b[0mtest_input_ids\u001b[0m \u001b[0;34m=\u001b[0m \u001b[0mpad_sequences\u001b[0m\u001b[0;34m(\u001b[0m\u001b[0mtest_input_ids\u001b[0m\u001b[0;34m,\u001b[0m \u001b[0mmaxlen\u001b[0m\u001b[0;34m=\u001b[0m\u001b[0mMAX_LEN\u001b[0m\u001b[0;34m,\u001b[0m \u001b[0mdtype\u001b[0m\u001b[0;34m=\u001b[0m\u001b[0;34m\"long\"\u001b[0m\u001b[0;34m,\u001b[0m \u001b[0mvalue\u001b[0m\u001b[0;34m=\u001b[0m\u001b[0;36m0\u001b[0m\u001b[0;34m,\u001b[0m \u001b[0mtruncating\u001b[0m\u001b[0;34m=\u001b[0m\u001b[0;34m\"post\"\u001b[0m\u001b[0;34m,\u001b[0m \u001b[0mpadding\u001b[0m\u001b[0;34m=\u001b[0m\u001b[0;34m\"post\"\u001b[0m\u001b[0;34m)\u001b[0m\u001b[0;34m\u001b[0m\u001b[0;34m\u001b[0m\u001b[0m\n\u001b[1;32m      3\u001b[0m \u001b[0mtest_attention_masks\u001b[0m \u001b[0;34m=\u001b[0m \u001b[0mcreate_attention_masks\u001b[0m\u001b[0;34m(\u001b[0m\u001b[0mtest_input_ids\u001b[0m\u001b[0;34m)\u001b[0m\u001b[0;34m\u001b[0m\u001b[0;34m\u001b[0m\u001b[0m\n",
            "\u001b[0;31mNameError\u001b[0m: name 'tokenize_sentences' is not defined"
          ]
        }
      ],
      "source": [
        "test_input_ids = tokenize_sentences(\"hello\", tokenizer, MAX_LEN)\n",
        "test_input_ids = pad_sequences(test_input_ids, maxlen=MAX_LEN, dtype=\"long\", value=0, truncating=\"post\", padding=\"post\")\n",
        "test_attention_masks = create_attention_masks(test_input_ids)"
      ]
    },
    {
      "cell_type": "code",
      "execution_count": null,
      "metadata": {
        "colab": {
          "base_uri": "https://localhost:8080/",
          "height": 960,
          "referenced_widgets": [
            "de2784a953214abc9624481249b51a39",
            "a43540e619d9413e87739759ee5edaf8",
            "89fc9db561894d0eb893c1b8f022ece1",
            "dfb08476955048e8911f44e38992446a",
            "79b63e4cb3ff424583afde31572d931f",
            "92bfd6b13e784d8780bc7319aa2345c9",
            "cf32aba8aba84fd98cdbe31413760d6a",
            "951c8c14dff1454f844bd0c4528f3037",
            "f701e1169fb044ad8ae12ac45d8cb6b1",
            "e757453f1b864bd6a675ce5befe6ef09",
            "a38245c60d3844f1aade2877528d29a0"
          ]
        },
        "id": "RUAKdp2EKYlZ",
        "outputId": "459e5f0e-bd13-498c-9256-81ce4009ce1d"
      },
      "outputs": [
        {
          "data": {
            "application/vnd.jupyter.widget-view+json": {
              "model_id": "de2784a953214abc9624481249b51a39",
              "version_major": 2,
              "version_minor": 0
            },
            "text/plain": [
              "  0%|          | 0/80 [00:00<?, ?it/s]"
            ]
          },
          "metadata": {},
          "output_type": "display_data"
        },
        {
          "name": "stdout",
          "output_type": "stream",
          "text": [
            "Weather update - a cold front from Cuba that could pass over Haiti\n",
            "[[0.60245955 0.02606841 0.08452496 ... 0.05844284 0.03321033 0.13639358]\n",
            " [0.55025965 0.02695139 0.07751189 ... 0.06023452 0.0310071  0.13594578]\n",
            " [0.5498777  0.02588744 0.08446865 ... 0.05637839 0.03414922 0.13074762]\n",
            " ...\n",
            " [0.59339905 0.02780957 0.07931907 ... 0.05667381 0.03295945 0.13070114]\n",
            " [0.6033715  0.05274021 0.13855931 ... 0.08763091 0.04146462 0.156612  ]\n",
            " [0.46919376 0.02845895 0.07920785 ... 0.04989734 0.03116344 0.10990162]]\n",
            "Is the Hurricane over or is it not over\n",
            "[[0.50015867 0.02571551 0.06839665 0.04365779 0.130823   0.07788306\n",
            "  0.04477542 0.04272451 0.04810173 0.0840669  0.07280004 0.04997395\n",
            "  0.07203158 0.06421284 0.04008645 0.06491669 0.07688624 0.11956803\n",
            "  0.041901   0.13152003 0.07268601 0.09905725 0.07666575 0.11034013\n",
            "  0.0979768  0.07685266 0.04003416 0.03078483 0.11986863 0.18407114\n",
            "  0.07111117 0.06981549 0.03162016 0.08904915 0.05339475 0.03129373\n",
            "  0.10600613]\n",
            " [0.5933988  0.02780954 0.07931906 0.04282673 0.14793915 0.07617102\n",
            "  0.04797067 0.04186106 0.06203426 0.09823421 0.06882245 0.05504172\n",
            "  0.08263987 0.06535494 0.03801301 0.07045729 0.07626091 0.13683696\n",
            "  0.05089282 0.14008577 0.06875379 0.11652516 0.07993279 0.11594417\n",
            "  0.0912361  0.08036848 0.04349315 0.03466154 0.13229267 0.18355705\n",
            "  0.07697711 0.07797853 0.03190984 0.0922825  0.0566738  0.03295947\n",
            "  0.13070108]\n",
            " [0.50015867 0.02571551 0.06839665 0.04365779 0.130823   0.07788306\n",
            "  0.04477542 0.04272451 0.04810173 0.0840669  0.07280004 0.04997395\n",
            "  0.07203158 0.06421284 0.04008645 0.06491669 0.07688624 0.11956803\n",
            "  0.041901   0.13152003 0.07268601 0.09905725 0.07666575 0.11034013\n",
            "  0.0979768  0.07685266 0.04003416 0.03078483 0.11986863 0.18407114\n",
            "  0.07111117 0.06981549 0.03162016 0.08904915 0.05339475 0.03129373\n",
            "  0.10600613]\n",
            " [0.49950364 0.0258627  0.0678935  0.04090819 0.12513399 0.07780101\n",
            "  0.0410016  0.04196019 0.04929641 0.07746103 0.06214756 0.04718383\n",
            "  0.08176603 0.06721849 0.03521988 0.06753228 0.07297368 0.11604533\n",
            "  0.04652521 0.12765747 0.06017128 0.09957006 0.06448751 0.10115955\n",
            "  0.07345521 0.07414152 0.03468303 0.03118755 0.0991063  0.1790764\n",
            "  0.06792305 0.06914566 0.03547895 0.07717056 0.05292145 0.03318248\n",
            "  0.12001482]\n",
            " [0.5465505  0.02503268 0.08519541 0.037882   0.12575151 0.07107772\n",
            "  0.04241048 0.03794563 0.05625733 0.08693536 0.0585411  0.04923376\n",
            "  0.07597066 0.0547016  0.03688085 0.06267052 0.07084815 0.10402454\n",
            "  0.04240486 0.13853239 0.06876335 0.07703362 0.06570724 0.10857169\n",
            "  0.07905962 0.06165561 0.03812864 0.03188747 0.11198577 0.16779839\n",
            "  0.06702331 0.06424063 0.03133312 0.08397227 0.0580557  0.03471515\n",
            "  0.13298982]\n",
            " [0.5122062  0.02717803 0.07119454 0.04733839 0.13165097 0.08785813\n",
            "  0.04410779 0.04519615 0.05678205 0.07790869 0.08176945 0.06436575\n",
            "  0.07181718 0.05950921 0.03568909 0.06679118 0.06824327 0.11663661\n",
            "  0.03689365 0.11059991 0.05687513 0.08314784 0.06750467 0.12030957\n",
            "  0.08703342 0.06418522 0.04091508 0.03004375 0.10049004 0.18115884\n",
            "  0.07044599 0.0597399  0.03489961 0.0980374  0.05536525 0.03350342\n",
            "  0.10780939]]\n"
          ]
        }
      ],
      "source": [
        "TEST_BATCH_SIZE = 32\n",
        "#test_steps = len(df_test) // TEST_BATCH_SIZE\n",
        "\n",
        "test_dataset = create_dataset((test_input_ids, test_attention_masks), batch_size=TEST_BATCH_SIZE, train=False, epochs=1)\n",
        "\n",
        "df_submission = pd.DataFrame(columns=label_cols)\n",
        "\n",
        "\n",
        "\n",
        "for i, (token_ids, masks) in enumerate(tqdm(test_dataset, total=80)):\n",
        "    #sample_ids = df_test.iloc[i*TEST_BATCH_SIZE:(i+1)*TEST_BATCH_SIZE]['id']\n",
        "    predictions = MODEL(token_ids, attention_mask=masks).numpy()\n",
        "    print(df_train['message'][i])\n",
        "    print(predictions)\n",
        "\n",
        "    #df_submission.loc[sample_ids, label_cols] = predictions"
      ]
    },
    {
      "cell_type": "code",
      "execution_count": null,
      "metadata": {
        "id": "JgAv8do3PYYX"
      },
      "outputs": [],
      "source": [
        "!cp -r /content/model2 /content/drive/MyDrive/Colab%Notebooks/BERT/2/"
      ]
    },
    {
      "cell_type": "code",
      "execution_count": null,
      "metadata": {
        "id": "JdtgY-B1laFe"
      },
      "outputs": [],
      "source": []
    },
    {
      "cell_type": "markdown",
      "metadata": {
        "id": "u9ciy-ptyFUO"
      },
      "source": [
        "# Inference"
      ]
    },
    {
      "cell_type": "markdown",
      "metadata": {
        "id": "egvOXCqkyFUP"
      },
      "source": []
    },
    {
      "cell_type": "code",
      "execution_count": 5,
      "metadata": {
        "id": "MpVqwgRVyFUP"
      },
      "outputs": [],
      "source": [
        "!pip install transformers keras_preprocessing tensorflow pandas numpy gdown -q"
      ]
    },
    {
      "cell_type": "code",
      "execution_count": 3,
      "metadata": {
        "colab": {
          "base_uri": "https://localhost:8080/",
          "height": 104,
          "referenced_widgets": [
            "b45e7348fa814dbba8b778085d74033e",
            "d08e9999ae184032ba3b3579af03c115",
            "6f383dee7ffe4fd781bd81cf207dc49d",
            "c1fa2d233d7c4dd7b08243a335ee8097",
            "ed42ff29d51d4010ac8e98f165392775",
            "6d60fc37f42f4c2581578d2e7fea3b5f",
            "a50a729a228c4817ae7829d2b794bc3a",
            "3f638a0ca76b4ebc8e8d3b026a260fe3",
            "9036a93bef9b48d998a60fc35cccedae",
            "8a697267722141e9982d232f682c0dd8",
            "73b783f776fd418ab54a29bcb3ae45e6"
          ]
        },
        "id": "zHC1xG3YyFUP",
        "outputId": "94bcad92-330f-4192-bee9-194915db26a8"
      },
      "outputs": [
        {
          "output_type": "stream",
          "name": "stderr",
          "text": [
            "The cache for model files in Transformers v4.22.0 has been updated. Migrating your old cache. This is a one-time only operation. You can interrupt this and resume the migration later on by calling `transformers.utils.move_cache()`.\n"
          ]
        },
        {
          "output_type": "stream",
          "name": "stdout",
          "text": [
            "Moving 0 files to the new cache system\n"
          ]
        },
        {
          "output_type": "display_data",
          "data": {
            "text/plain": [
              "0it [00:00, ?it/s]"
            ],
            "application/vnd.jupyter.widget-view+json": {
              "version_major": 2,
              "version_minor": 0,
              "model_id": "b45e7348fa814dbba8b778085d74033e"
            }
          },
          "metadata": {}
        }
      ],
      "source": [
        "import os\n",
        "import numpy as np\n",
        "import pandas as pd\n",
        "import tensorflow as tf\n",
        "from transformers import TFBertModel\n",
        "from transformers import BertTokenizer\n",
        "from tensorflow.keras.layers import Dense, Flatten\n",
        "from keras_preprocessing.sequence import pad_sequences"
      ]
    },
    {
      "cell_type": "code",
      "source": [
        "import gdown\n",
        "gdown.download_folder(\"https://drive.google.com/drive/folders/1--mapYkARlwpwYeu6oTxP7Ly2csH_AW5?usp=sharing\", quiet=True)"
      ],
      "metadata": {
        "colab": {
          "base_uri": "https://localhost:8080/"
        },
        "id": "chsPhi6Zycua",
        "outputId": "9843579f-c42b-4f51-eeaf-99db15febd13"
      },
      "execution_count": 4,
      "outputs": [
        {
          "output_type": "execute_result",
          "data": {
            "text/plain": [
              "['/content/bert_toxic_2/keras_metadata.pb',\n",
              " '/content/bert_toxic_2/saved_model.pb',\n",
              " '/content/bert_toxic_2/variables/variables.data-00000-of-00001',\n",
              " '/content/bert_toxic_2/variables/variables.index']"
            ]
          },
          "metadata": {},
          "execution_count": 4
        }
      ]
    },
    {
      "cell_type": "code",
      "execution_count": 5,
      "metadata": {
        "id": "ykKWIfvLyFUP"
      },
      "outputs": [],
      "source": [
        "modelpath = \"/content/bert_toxic_2\""
      ]
    },
    {
      "cell_type": "code",
      "execution_count": 6,
      "metadata": {
        "id": "Dkqx2Bb5yFUP"
      },
      "outputs": [],
      "source": [
        "label_cols = ['toxic', 'severe_toxic', 'obscene', 'threat',\n",
        "              'insult', 'identity_hate']"
      ]
    },
    {
      "cell_type": "code",
      "execution_count": 7,
      "metadata": {
        "id": "cwUvXUyCyFUP"
      },
      "outputs": [],
      "source": [
        "predictionArrray = []\n",
        "\n",
        "class BertClassifier(tf.keras.Model):    \n",
        "    def __init__(self, bert: TFBertModel, num_classes: int):\n",
        "        super().__init__()\n",
        "        self.bert = bert\n",
        "        self.classifier = Dense(num_classes, activation='sigmoid')\n",
        "        \n",
        "    @tf.function\n",
        "    def call(self, input_ids, attention_mask=None, token_type_ids=None, position_ids=None, head_mask=None):\n",
        "        outputs = self.bert(input_ids,\n",
        "                               attention_mask=attention_mask,\n",
        "                               token_type_ids=token_type_ids,\n",
        "                               position_ids=position_ids,\n",
        "                               head_mask=head_mask)\n",
        "        cls_output = outputs[1]\n",
        "        cls_output = self.classifier(cls_output)\n",
        "                \n",
        "        return cls_output\n",
        "\n",
        "MODEL_PATH_BERT2 = modelpath + '/'"
      ]
    },
    {
      "cell_type": "code",
      "execution_count": 8,
      "metadata": {
        "colab": {
          "base_uri": "https://localhost:8080/"
        },
        "id": "03Urs7S1yFUP",
        "outputId": "8a45603e-3af7-4979-bb40-ca658f94dc8d"
      },
      "outputs": [
        {
          "output_type": "stream",
          "name": "stderr",
          "text": [
            "Some layers from the model checkpoint at bert-base-uncased were not used when initializing TFBertModel: ['mlm___cls', 'nsp___cls']\n",
            "- This IS expected if you are initializing TFBertModel from the checkpoint of a model trained on another task or with another architecture (e.g. initializing a BertForSequenceClassification model from a BertForPreTraining model).\n",
            "- This IS NOT expected if you are initializing TFBertModel from the checkpoint of a model that you expect to be exactly identical (initializing a BertForSequenceClassification model from a BertForSequenceClassification model).\n",
            "All the layers of TFBertModel were initialized from the model checkpoint at bert-base-uncased.\n",
            "If your task is similar to the task the model of the checkpoint was trained on, you can already use TFBertModel for predictions without further training.\n"
          ]
        }
      ],
      "source": [
        "MODEL_BERT2 = BertClassifier(TFBertModel.from_pretrained('bert-base-uncased'), len(label_cols))\n",
        "MODEL_BERT2.load_weights(MODEL_PATH_BERT2)\n",
        "tokenizer_BERT2 = BertTokenizer.from_pretrained('bert-base-uncased', do_lower_case=True)"
      ]
    },
    {
      "cell_type": "code",
      "execution_count": 9,
      "metadata": {
        "id": "jSmYKlt7yFUP"
      },
      "outputs": [],
      "source": [
        "def tokenize_sentences_multiclass(sentences, tokenizer, max_seq_len = 128):\n",
        "    tokenized_sentences = []\n",
        "\n",
        "    for sentence in sentences:\n",
        "        tokenized_sentence = tokenizer.encode(\n",
        "                            sentence,                  # Sentence to encode.\n",
        "                            add_special_tokens = True, # Add '[CLS]' and '[SEP]'\n",
        "                            max_length = max_seq_len,  # Truncate all sentences.\n",
        "                    )\n",
        "        \n",
        "        tokenized_sentences.append(tokenized_sentence)\n",
        "\n",
        "    return tokenized_sentences\n",
        "\n",
        "\n",
        "def create_dataset_multiclass(data_tuple, epochs=1, batch_size=32, buffer_size=10000, train=True):\n",
        "    dataset = tf.data.Dataset.from_tensor_slices(data_tuple)\n",
        "    if train:\n",
        "        dataset = dataset.shuffle(buffer_size=buffer_size)\n",
        "    dataset = dataset.repeat(epochs)\n",
        "    dataset = dataset.batch(batch_size)\n",
        "    if train:\n",
        "        dataset = dataset.prefetch(1)\n",
        "    \n",
        "    return dataset\n",
        "\n",
        "def create_attention_masks(tokenized_and_padded_sentences):\n",
        "    attention_masks = []\n",
        "\n",
        "    for sentence in tokenized_and_padded_sentences:\n",
        "        att_mask = [int(token_id > 0) for token_id in sentence]\n",
        "        attention_masks.append(att_mask)\n",
        "\n",
        "    return np.asarray(attention_masks)\n",
        "\n",
        "def predict_text_class(text,MAX_LEN=64):\n",
        "  test_input_ids = tokenize_sentences_multiclass(text, tokenizer_BERT2, MAX_LEN)\n",
        "  test_input_ids = pad_sequences(test_input_ids, maxlen=MAX_LEN, dtype=\"long\", value=0, truncating=\"post\", padding=\"post\")\n",
        "  test_attention_masks = create_attention_masks(test_input_ids)\n",
        "  test_dataset = create_dataset_multiclass((test_input_ids, test_attention_masks), batch_size=1, train=False, epochs=1)\n",
        "  for i, (token_ids, masks) in enumerate(test_dataset):\n",
        "    predictions = MODEL_BERT2(token_ids, attention_mask=masks).numpy()\n",
        "    predictionDict = dict(zip(label_cols,predictions[0]))\n",
        "    return predictionDict"
      ]
    },
    {
      "cell_type": "markdown",
      "metadata": {
        "id": "E2nlhEh-yFUP"
      },
      "source": [
        "### Scrappe twitter data"
      ]
    },
    {
      "cell_type": "code",
      "execution_count": 11,
      "metadata": {
        "colab": {
          "base_uri": "https://localhost:8080/"
        },
        "id": "xGiXZ6ZAyFUP",
        "outputId": "cf1c187c-00ac-4dbd-eb6c-1c5afdff2d75"
      },
      "outputs": [
        {
          "output_type": "stream",
          "name": "stdout",
          "text": [
            "\u001b[33m  WARNING: Did not find branch or tag 'origin/master', assuming revision or ref.\u001b[0m\n"
          ]
        }
      ],
      "source": [
        "!pip3 install --user --upgrade git+https://github.com/twintproject/twint.git@origin/master#egg=twint -q #restart runtime"
      ]
    },
    {
      "cell_type": "code",
      "source": [
        "!pip install nest-asyncio"
      ],
      "metadata": {
        "colab": {
          "base_uri": "https://localhost:8080/"
        },
        "id": "_IdjVE_Lziuw",
        "outputId": "ad443651-a9b2-4444-9969-4bef947f688d"
      },
      "execution_count": 15,
      "outputs": [
        {
          "output_type": "stream",
          "name": "stdout",
          "text": [
            "Looking in indexes: https://pypi.org/simple, https://us-python.pkg.dev/colab-wheels/public/simple/\n",
            "Collecting nest-asyncio\n",
            "  Downloading nest_asyncio-1.5.6-py3-none-any.whl (5.2 kB)\n",
            "Installing collected packages: nest-asyncio\n",
            "Successfully installed nest-asyncio-1.5.6\n"
          ]
        }
      ]
    },
    {
      "cell_type": "code",
      "source": [
        "!mkdir data"
      ],
      "metadata": {
        "id": "Rdj2r0D5zQgp"
      },
      "execution_count": null,
      "outputs": []
    },
    {
      "cell_type": "code",
      "execution_count": 17,
      "metadata": {
        "id": "Clxvi2utyFUP"
      },
      "outputs": [],
      "source": [
        "import twint,json\n",
        "import nest_asyncio\n",
        "\n",
        "tempath = \"/content/data\"\n",
        "\n",
        "def top_tweets(username): \n",
        "    for user in username:\n",
        "        c = twint.Config()\n",
        "        c.Limit = 100\n",
        "        c.Output = os.path.join(tempath, f\"tweets_{user}.json\")\n",
        "        c.Store_json = True\n",
        "        c.Username = user\n",
        "        a = twint.run.Search(c)\n",
        "\n",
        "    # scrapping done & preprocessing start\n",
        "    totalTweets = {}\n",
        "    for user in username:\n",
        "        tweets = []\n",
        "        for line in open(os.path.join(os.path.join(tempath, f\"tweets_{user}.json\")), 'r'):\n",
        "            tweets.append(json.loads(line))\n",
        "            totalTweets[user] = tweets\n",
        "    return totalTweets"
      ]
    },
    {
      "cell_type": "code",
      "execution_count": 18,
      "metadata": {
        "colab": {
          "base_uri": "https://localhost:8080/"
        },
        "id": "CdKmilpbyFUP",
        "outputId": "42dff46e-d845-42d6-8095-22e2f16ca783"
      },
      "outputs": [
        {
          "output_type": "stream",
          "name": "stdout",
          "text": [
            "1581516722670276610 2022-10-16 05:25:44 +0000 <maestroxv_> @JoshAllenGOD @NFLonCBS @CRose2u Yes and he's still not on Mahomes' level.\n",
            "1581516510509817857 2022-10-16 05:24:53 +0000 <maestroxv_> @NFLonCBS If Josh Allen had Mahomes' resume the media praise and obsession would reach unbearable levels. For all the praise people think Mahomes gets, there are still far too many who try to diminish what he's done.\n",
            "1581515404073062400 2022-10-16 05:20:30 +0000 <maestroxv_> @RyanDePaul @NFLonCBS It's actually laughable how desperate some of you are to diminish Mahomes.\n",
            "1581513758878617600 2022-10-16 05:13:57 +0000 <maestroxv_> @highoffness I will be damned if I gotta get an oil change for a damn stroller 💀\n",
            "1581498623548076032 2022-10-16 04:13:49 +0000 <maestroxv_> @SeattleSeacrow @JakeMiller2021 @EliotCrist Ahh yes, that's the only reason. Cringey, nothing to do with double standards or racial stereotypes.  Again, when you people start to address the poor behavior of that locker room, we can actually get somewhere.\n",
            "1581498298040713218 2022-10-16 04:12:31 +0000 <maestroxv_> @JakeMiller2021 @EliotCrist Lmao at you not hating on Russ. Self awareness is a struggle for you I'm guessing.  Even if I buy this, that's even more pathetic. Maybe invest that energy into those trying to demonize a positive role model like Russ.\n",
            "1581497708455464960 2022-10-16 04:10:11 +0000 <maestroxv_> @BeerusYouBitch @Dria39 @RNT425 @EliotCrist Yes and he's no longer his teammate. As teammates, Russ never mistreated any of them...and none of them have stories to prove or claim otherwise.\n",
            "1581496985580101633 2022-10-16 04:07:18 +0000 <maestroxv_> @Damen_LaPlace @EliotCrist You're right. Sherman is a domestic offender that wanted Russ benched after his 1st game as a rookie. And has continuously hated on Russ for getting too much credit.  Lynch is no longer his teammate..and he admitted to rooting against Russ. Somehow you people find that acceptable\n",
            "1581496467130175488 2022-10-16 04:05:15 +0000 <maestroxv_> @SaintXavier_ @EliotCrist Idk for the same reason Russ went on vacation with DK. So what's your point?\n",
            "1581496046500184066 2022-10-16 04:03:34 +0000 <maestroxv_> @ManuelSwervin @kirbycar47 @EliotCrist I'm not a Broncos fan. I have been following the Seahawks for 12 years.   I'm defending him based on actual evidence. Everything points to Russ being a good person, and some going out of their way to pick on him for being \"different\" or \"corny,\" among other names he's been called\n",
            "1581495420735614976 2022-10-16 04:01:05 +0000 <maestroxv_> @oljameis @bleednsea84 @EliotCrist An asshole is Sherman, who threatened his family in a domestic incident.  Lynch also has off the field issues, if you want to go there.  An asshole is not someone who no longer talks to players that TRIED to bully from the very beginning.. and didn't think he was \"black enough.\"\n",
            "1581494831389773824 2022-10-16 03:58:45 +0000 <maestroxv_> @JakeMiller2021 @EliotCrist Sorry I keep interrupting your Russ hate fest. You people are frothing at the mouth everyday with hate.  If you're seeing me this often, you're here as often as I am. Everyday there's this weird, disturbing, likely motivated by subconscious bias..Russ hate. Did he commit a crime?\n",
            "1581493190447677440 2022-10-16 03:52:13 +0000 <maestroxv_> @SeattleSeacrow @JakeMiller2021 @EliotCrist Weird how Pat Mahomes was never called \"Carlton.\" Almost as if there are dynamics within the black community most of you don't understand.   Nice deflection tho, but the fact of the matter is several divisive players in that locker room chose to pick on Russ for being different\n",
            "1581491277832818688 2022-10-16 03:44:37 +0000 <maestroxv_> @R6Noob_ @DawsonDeezKnox @ByKimberleyA Why shouldn't he develop himself as a pocket passer just like Zach Wilson, Trevor Lawrence, Josh Allen, or literally any other QB that is good at being an athlete? You guys refuse to answer that question, it doesn't add up.\n",
            "1581490951142674436 2022-10-16 03:43:20 +0000 <maestroxv_> @plankyyt @LeGoat03824702 @DawsonDeezKnox @ByKimberleyA Did anyone tell Josh Allen or Trevor Lawrence to stick to running and that they won't become pocket QBs?\n",
            "1581490676814213121 2022-10-16 03:42:14 +0000 <maestroxv_> @Travis94914418 @tvmvki @2nPac @kingston450 It doesn't take two sides. Picking on people isn't uncommon, and sometimes it's one side that is toxic. We have actual evidence that Sherman is toxic and several of those teammates have off the field issues. You clearly don't understand the race dynamics of this either.\n",
            "1581471086855671809 2022-10-16 02:24:24 +0000 <maestroxv_> @sugarbets_ @EliotCrist Kyle Brandt mentioned his wife could have talked about Russ' children and I genuinely think most of you would defend it.  I've only seen the most garbage bottom of the barrel people defend Kyle's rant. People who probably take joy picking on others.\n",
            "1581468119494975489 2022-10-16 02:12:36 +0000 <maestroxv_> @Rumrunner11 @bleednsea84 The same amount of time you all spend every day hating on him. Literally you people are relentlessly posting about him. You only complain about the people who have the basic integrity to call it out.\n",
            "1581467908361768960 2022-10-16 02:11:46 +0000 <maestroxv_> @MandiblePatella @RichKurtzman @PFF None of what you're saying here makes sense.  Again...do you need this to be explained to you like a 5 year old...why it is inappropriate for a media entity to treat or portray QBs differently from others? Yes or no?  Russ is not the first hyped \"savior\" QB to struggle.\n",
            "1581466399813566464 2022-10-16 02:05:46 +0000 <maestroxv_> @NFTBoyfriend @pjj_dakota @EliotCrist Russell Wilson went on vacation with DK Metcalf. Doesn't mean everyone has his phone number.\n",
            "1581466291386580994 2022-10-16 02:05:20 +0000 <maestroxv_> @sugarbets_ @TheJonTebay @EliotCrist Because people are completely lying about what Marshawn said. He is saying he does not have access to Russ NOW. As in currently. Not as teammates 7 years ago. Which is how many people here are framing it.\n",
            "1581466023944810496 2022-10-16 02:04:16 +0000 <maestroxv_> @RNT425 @Iamnoonestool @EliotCrist I would much rather support the Walter Payton Man of the Year than shamelessly spend every day trying to tear him down for no reason.  You're so desperate to demonize the dude...the only thing you guys can find is he no longer connects with teammates who rooted against him.\n",
            "1581465643353636864 2022-10-16 02:02:46 +0000 <maestroxv_> @Dria39 @sugarbets_ @EliotCrist They could talk about Russ' kids next and they would excuse it.   Even if this was true, a player has a right to no longer keep in touch with teammates who rooted against him.\n",
            "1581465331083927552 2022-10-16 02:01:31 +0000 <maestroxv_> @SeattleSeacrow @JakeMiller2021 @EliotCrist Nah Lynch just chose to root against a player and was part of that locker room that didn't think Russ was black enough.\n",
            "1581465111025229828 2022-10-16 02:00:39 +0000 <maestroxv_> @JakeMiller2021 @EliotCrist Maybe one day you idiots will stop obsessing over a QB you hate so much. You don't feel guilty for hating a black QB with no off the field issues for no reason? Sad, do better.\n",
            "1581464878921175040 2022-10-16 01:59:43 +0000 <maestroxv_> @SpeCooks @EliotCrist Sure. Just as DK has Russ' number. Even Carlos Dunlap had Russ' number. So does Penny Hart probably.\n",
            "1581464562918096896 2022-10-16 01:58:28 +0000 <maestroxv_> @bleednsea84 @EliotCrist Vince Wilfork and Willie McGinest are as close with Brady as DK, Lockett, Justin Britt, and others were with Russ.  Are you arguing that all of Brady's former teammates who won with him...have his current phone number and can just call him at any time?\n",
            "1581464320466366465 2022-10-16 01:57:30 +0000 <maestroxv_> @kirbycar47 @EliotCrist Russ acted in what way? Like any franchise QB?  Those core players mistreated himi from the beginning. Do you need to have your memory refreshed?\n",
            "1581464128824422400 2022-10-16 01:56:45 +0000 <maestroxv_> @RNT425 @PrimeKlaw @EliotCrist It's Sherman, Doug, who else?  Let's do a character comparison.\n",
            "1581464032275730433 2022-10-16 01:56:22 +0000 <maestroxv_> @RNT425 @EliotCrist While you're presumably doing research, why don't you tell me why Sherman could offer no actual bad thing Russ did.   Imagine taking the side of players with a million off the field issues..versus a player whose worst crime is...disconnecting from players who mistreated him.\n",
            "1581463532209844227 2022-10-16 01:54:22 +0000 <maestroxv_> @RNT425 @EliotCrist Why don't you ask yourself why a locker room that didn't think Russ was black enough, or that wanted him benched after his FIRST game...rooted against him.  You can only insult me, but you're not going to win an argument on facts. Let's talk about how they attempted to bully him.\n",
            "1581462930687950848 2022-10-16 01:51:59 +0000 <maestroxv_> @twitgabrielR10 @EliotCrist Lmao at also assuming Blount has Brady on speed dial all of these years later. Athletes change their phone numbers and they're not all bffs.   Edgerrin and Peyton were actually cool, but not all teammates are close. Just admit you don't care about being fair on this topic. 😂\n",
            "1581462175381860353 2022-10-16 01:48:59 +0000 <maestroxv_> @mgomarley @twitgabrielR10 @EliotCrist Lmao they make no sense. Their only logic is hating Russ, nothing else.  They haven't been teammates in 7 years, and Lynch admits to rooting against him after. Why would they have numbers exchanged with that kind of energy?\n",
            "1581461940932857856 2022-10-16 01:48:03 +0000 <maestroxv_> @twitgabrielR10 @EliotCrist You must be a high school kid 💀.   Lynch is clearly admitting that he rooted against Russ. He isn't saying he didn't have Russ' number WHILE they were teammates.  Russ connected with plenty of other teammates. He also texted with Lynch according to this 2014 ESPN article:  https://t.co/o16l05UgDJ\n",
            "1581461197249204225 2022-10-16 01:45:06 +0000 <maestroxv_> @bleednsea84 There's nothing to defend. Lynch is saying he doesn't have his current number. Why would Russ go out of his way to communicate with someone who is literally admitting he didn't want him to succeed?  Or Sherm, who was openly hostile towards Russ?\n",
            "1581425293230604289 2022-10-15 23:22:26 +0000 <maestroxv_> @RossiBlrossi67 I've been saying for years I wanted Russ to be in a new environment. It's been my opinion that he wasn't treated like a franchise QB normally is. And re-reading old articles...I stand by that. He texts Courtland Sutton and other teammates all the time.\n",
            "1581424374258638848 2022-10-15 23:18:46 +0000 <maestroxv_> @djschoen24 @SeahawkNerd I actually knew this would be the one clip they would nitpick. That's how much they hate Russ and I'm honestly glad he got away from this fan base, ex-teammates, and city.   If you look at everything he's been put through since his rookie season, he should have left sooner.\n",
            "1581422847901466625 2022-10-15 23:12:43 +0000 <maestroxv_> @damnit_mann @OfLewiston @SeahawkNerd Russ has no obligation to keep in touch with people who mistreat him, especially since they're no longer teammates. Having his number as a teammate and having his new number as an ex-teammate are two different things.\n",
            "1581422321050726400 2022-10-15 23:10:37 +0000 <maestroxv_> @Chase_Kimba11 @OfLewiston @SeahawkNerd They're not his brothers and were never supportive of him. Russ and Marshawn haven't been teammates for 7 years. You're all assuming Russ' number never changed.\n",
            "1581406842449981441 2022-10-15 22:09:07 +0000 <maestroxv_> @FieldGulls Damn…Game Over 💀\n",
            "1581406023591821314 2022-10-15 22:05:51 +0000 <maestroxv_> @SeattleSportsF @RichKurtzman @PFF It definitely is. The internet isn’t the place for just group think, sorry.   I overlook a lot of anti-Russ stuff. If this wasn’t PFF…an official source that is prominent beyond the internet…you would make sense.\n",
            "1581402180199686145 2022-10-15 21:50:35 +0000 <maestroxv_> @SeattleSportsF @RichKurtzman @PFF Are you in high school?  Yes, it’s just a face filter. But this is PFF, not a NFL Meme account.   Do I have to explain in basic terms why it’s abnormal to single out a QB and mock them? Did PFF or Seth do that to another QB? Yes or No? Answer that directly and we can evaluate.\n",
            "1581400028702068737 2022-10-15 21:42:02 +0000 <maestroxv_> @themaryone1 Lol at Duane Brown not having his number even though him and his wife hung out with Russ and Ciara.   Numbers change. Lynch didn’t say he didn’t have his number while they played together. He said he doesn’t have it now. Why should he when he admits he was rooting against Russ?\n",
            "1581399621481684993 2022-10-15 21:40:25 +0000 <maestroxv_> @bobgar79821 @themaryone1 The truth doesn’t matter to them. It doesn’t matter that Lockett hung out with him and DK went on vacation with him.\n",
            "1581394544943239168 2022-10-15 21:20:15 +0000 <maestroxv_> @Occams_Rager_ @tressnine @blCarpenio @SeahawkNerd Do you know that Russ has the same phone number from his rookie season? Or are you just making things up as a troll account?\n",
            "1581394252105674752 2022-10-15 21:19:05 +0000 <maestroxv_> @Occams_Rager_ @blCarpenio @SeahawkNerd Yea DK and Tyler totally don’t have his number despite literally hanging out with him. And traveling with him.\n",
            "1581393991567753216 2022-10-15 21:18:03 +0000 <maestroxv_> @Occams_Rager_ @blCarpenio @SeahawkNerd Lynch didn’t say he didn’t have his number WHILE playing with him. He also admitted to rooting against Russ.   Maybe if they didn’t make Russ feel like he wasn’t “black enough.” Or if they didn’t beg for him to be benched after week 1 of his rookie season, you’d have an argument.\n",
            "1581377310975893504 2022-10-15 20:11:46 +0000 <maestroxv_> @bbish1112 @EliotCrist And Russ went on vacation with DK. Even taught DK how to swim.\n",
            "1581377167589462016 2022-10-15 20:11:11 +0000 <maestroxv_> @twitgabrielR10 @EliotCrist Okay so pretty much you have no comparison or argument to make, cool lol.   You can only justify this if you hold Russ to a different standard. Which is pretty much what Sherman and other teammates wanted...for Russ to not be treated like any prototypical franchise QB.\n",
            "1581376538599370752 2022-10-15 20:08:42 +0000 <maestroxv_> @MandiblePatella @RichKurtzman @PFF I do agree though that official journalists and analysts are starting to behave like NFL Meme accounts. Can't really tell the difference.  I expect immature twitter trolls to share stuff like this. But this isn't normal unless you can point to similar examples (you prob cant).\n",
            "1581375598622310401 2022-10-15 20:04:57 +0000 <maestroxv_> @MandiblePatella @RichKurtzman @PFF A TikTok filter isn't a personal attack...if the SAME thing is done to other QBs.   Otherwise it falls in the same biased pattern of photoshopping Russ and Jeffrey Dahmer. Or Kyle Brandt mentioning Russ' wife.  If Seth has done this to others, cool. But PFF is not a troll account\n",
            "1581373058404999168 2022-10-15 19:54:52 +0000 <maestroxv_> @pff_seth As for Geno, I only wish he'll be analyzed fairly/accurately for what he is. Right now he's being exclusively praised for not being Russ, which will set false expectations. The early flaws of the Seahawks offense has been overlooked because of how bad the Broncos offense has been\n",
            "1581370400029966336 2022-10-15 19:44:18 +0000 <maestroxv_> @pff_seth The weird unnecessary photoshop aside, this leaves out some data.  From the pocket, his intermediate middle target rate is on par with Herbert, Allen, Rodgers. His on target percentage was fine prior to the Colts game. This isn't fully reflective of what's happened week to week.\n",
            "1581365638513455105 2022-10-15 19:25:23 +0000 <maestroxv_> @itsallaruse_ @pff_seth Yea it has some good information but it's pretty slanted. Leaves a lot of data on the table with the goal of confirming biases..and then working backwards from there.   Which is sad because imo, those with a platform should share more complete information.\n",
            "1581362285649412096 2022-10-15 19:12:03 +0000 <maestroxv_> @bumbaclot09 @sessi_stassia @AquillonVT @OfLewiston @SeahawkNerd DK literally went on vacation with Russ. Tyler calls Russ his best friend. This is basic information. Letting Sherman…who has always been hostile…and Lynch…who admitted he rooted against Russ paint the entire picture makes no sense.   Also this is what teammates posted  https://t.co/NauDpUEiPc\n",
            "1581361042445438976 2022-10-15 19:07:07 +0000 <maestroxv_> @BDChiefsFan @Stay1nTheKnow @prime_roy3 @SeahawkNerd One admitted he rooted against Russ. The other has been openly hostile towards Russ since he was a rookie. So much so Michael Bennett had to fight him. And he has never been able to name the bad thing Russ did to him.\n",
            "1581360201462329344 2022-10-15 19:03:46 +0000 <maestroxv_> @getnickwright It’s a microcosm of American society. Unless racism is blatantly in their face…with red sirens, a big “Racism is here” sign, and it’s in 8K video quality…the instincts for a lot of Americans is to dismiss racism. The mere thought offends them. 🤷🏾‍♂️\n",
            "1581358148912152578 2022-10-15 18:55:37 +0000 <maestroxv_> @EliotCrist They’re no longer teammates, so two questions.  1. Lynch openly admitted in this inteview he rooted against Russ. Why would Russ embrace that negativity?  2. Tom Brady has had over 200 teammates. You think each and every one of them have his number? Same for Peyton? Joe Montana?  https://t.co/pIlRgxbABr\n",
            "1581355238203994112 2022-10-15 18:44:03 +0000 <maestroxv_> @gfienberg17 @RichKurtzman @PFF The internet enables personal attacks against some athletes and protection of others.   It explains why it was acceptable to photoshop Russ with Jeffrey Dahmer a couple of weeks ago. There's no line anymore and people aren't decent enough to say that.\n",
            "1581352851149770752 2022-10-15 18:34:34 +0000 <maestroxv_> @RichKurtzman @PFF There's not a single QB in the league that some in the media get a free pass to personally attack at will. Maybe Lamar Jackson is the other, but it's odd.\n",
            "1581351753965924352 2022-10-15 18:30:12 +0000 <maestroxv_> @brett98072 @SweetNita5 @BrettRevolt @pff_seth The Seahawks offense were in the bottom 10 until the Lions game. Unless the offense surpasses Russ' offenses in points per game and yards, complaints about Russ' limitations are meritless. If Broncos had what Seahawks fans had with Russ they'd be ecstatic.\n",
            "1581347664515698689 2022-10-15 18:13:57 +0000 <maestroxv_> @ericeager_ Whatever Kirk Cousins or Jared Goff would get. Which may sound like an insult to some, but I think that's where Geno lands when it's all said and done. A really good QB that can play especially well when the structure around him is sound.\n",
            "1581345693393858561 2022-10-15 18:06:07 +0000 <maestroxv_> @MattVerderame It really isn't when Lynch himself admits he was rooting against Russ.\n",
            "1581340979625283585 2022-10-15 17:47:24 +0000 <maestroxv_> @prime_roy3 @SeahawkNerd “I ain’t gon hold you I ain’t wanna see it in Seattle.”  Bad immature vibes all around and Russ is expected to not be human.   I also doubt this is unprecedented. The idea that every ex-player can just call Joe Montana, Brady, Peyton, etc. is kinda laughable in general.\n",
            "1581340085802655745 2022-10-15 17:43:50 +0000 <maestroxv_> For Marshawn I think it was more about maintaining a legacy and not being overshadowed. But it makes sense why Russ would be guarded. That kind of energy is unusual. Pretty sure Jimmy Graham, DK, Lockett, Britt, and others have his number.  https://t.co/DuCGV1veYF\n",
            "1581339712190443521 2022-10-15 17:42:21 +0000 <maestroxv_> @prime_roy3 @SeahawkNerd Yea. In one part of the clip he talks about some Seahawks players. In another he says this, and I think it was more of a legacy/getting the credit thing. But it would explain Russ being guarded:  https://t.co/zYYVQKtH8C\n",
            "1581334539812556800 2022-10-15 17:21:48 +0000 <maestroxv_> @YinzBurgh22 @BackshotsBrett @DawsonDeezKnox @ByKimberleyA How many of these QBs were told to stick to being running QBs, instead of being allowed to grow into it?\n",
            "1581334406567862272 2022-10-15 17:21:16 +0000 <maestroxv_> @YinzBurgh22 @BackshotsBrett @DawsonDeezKnox @ByKimberleyA Trubisky was given 3 years to fail.  Darnold was given 3 years to fail. Rosen was given multiple chance to fail.  Love was never given a real opportunity.  Haskins was never given an extended opportunity.  Goff was given 5 years and is STILL a starter.  Wentz is still a starter.\n",
            "1581333863623598080 2022-10-15 17:19:07 +0000 <maestroxv_> @Sportsphobic @DawsonDeezKnox @ByKimberleyA Nah\n",
            "1581333794992234496 2022-10-15 17:18:51 +0000 <maestroxv_> @sootkoos @LeGoat03824702 @DawsonDeezKnox @ByKimberleyA Yes, that’s my point. He was given the GRACE to grow into a QB. No one told him to stick to running. Not even the analysts criticizing him.\n",
            "1581333606601220097 2022-10-15 17:18:06 +0000 <maestroxv_> @LeGoat03824702 @DawsonDeezKnox @ByKimberleyA Josh Allen and Trevor Lawrence sucked at football in their early years. So you don’t really have an argument.   Tell me how good Trevor Lawrence was last year. Or how good Josh Allen was his first 2 years. Do it without exposing your biases too much.\n",
            "1581333047730847745 2022-10-15 17:15:52 +0000 <maestroxv_> @dailydoseof0 @SeahawkNerd He literally admitted he was rooting against Russ. You don’t think that’s negative energy?\n",
            "1581332774291578880 2022-10-15 17:14:47 +0000 <maestroxv_> @bumbaclot09 @sessi_stassia @AquillonVT @OfLewiston @SeahawkNerd Lynch admitted he was rooting against Russ.   Pretty sure DK, Lockett, Justin Britt, among others can call Russ directly.\n",
            "1581331606765449216 2022-10-15 17:10:09 +0000 <maestroxv_> Marshawn openly admits in this interview that he was rooting for Russ to fail. And that other teammates were as well.   Michael Robinson literally admitted that Sherman and others wanted Russ benched after his FIRST game.   The hostility was there unprovoked from the beginning.\n",
            "1581330368216473601 2022-10-15 17:05:14 +0000 <maestroxv_> @rsbyjck @DaveMinar @SeahawkNerd He didn’t lie. He actually admitted he rooted against Russ. Russ has never mistreated any of his teammates, can’t say the same for them.\n",
            "1581330203598786562 2022-10-15 17:04:34 +0000 <maestroxv_> @SeahawkNerd It’s amazing how easily misinformation and bias spreads.   In this video, Marshawn literally admits…OUT LOUD…that he rooted against Russ. And that other teammates rooted against Russ. Prob the same teammates that mistreated him as a rookie. Yet Russ shouldn’t be guarded.\n",
            "1581329705638428672 2022-10-15 17:02:36 +0000 <maestroxv_> @dailydoseof0 @SeahawkNerd Marshawn literally tells you in the video. The other teammates were rooting against him.\n",
            "1581329466592493568 2022-10-15 17:01:39 +0000 <maestroxv_> @AquillonVT @OfLewiston @SeahawkNerd Marshawn literally admitted he rooted against Russ as a Seahawk. And so did other teammates.\n",
            "1581329329065463808 2022-10-15 17:01:06 +0000 <maestroxv_> @Blaisien_ @SeahawkNerd So let me get this straight. Marshawn Lynch openly admitted that he and other teammates were rooting for him to fail, Sherman and others were hostile towards him…and Russ should just take it?  Can you guys try making sense for a moment? Pretend we’re not discussing Russ.\n",
            "1581326999687426048 2022-10-15 16:51:51 +0000 <maestroxv_> @R6Noob_ @DawsonDeezKnox @treveyonszn @ByKimberleyA That doesn’t make sense. So because Fields can run, he shouldn’t use his early years to develop as a pocket passer? The one thing QBs like him are often criticized for?\n"
          ]
        },
        {
          "output_type": "stream",
          "name": "stderr",
          "text": [
            "/usr/lib/python3.7/json/encoder.py:256: RuntimeWarning: coroutine 'Twint.main' was never awaited\n",
            "  self.skipkeys, _one_shot)\n",
            "RuntimeWarning: Enable tracemalloc to get the object allocation traceback\n"
          ]
        },
        {
          "output_type": "stream",
          "name": "stdout",
          "text": [
            "1581154353615732736 2022-10-15 05:25:48 +0000 <maestroxv_> @kingston450 @late4567 @RammiesBCS @VicLombardi @Broncos Totally agree. Some will never understand.\n",
            "1581154173650759681 2022-10-15 05:25:06 +0000 <maestroxv_> @BrettKollmann Geno was always talented. He was robbed of an opportunity for years but..there’s no denying that some time sitting probably helped him as well. But it shouldn’t have taken him 8 years to get another chance. Great QBs can in fact overcome bad structure though, to an extent.\n",
            "1581152786166976512 2022-10-15 05:19:35 +0000 <maestroxv_> @PFF It’s crazy how the NFL works. Because if fans had their way Drew Lock would’ve been the starter. A lot of season left but Geno was the right decision. Bias can erase careers.\n",
            "1581148941827342337 2022-10-15 05:04:18 +0000 <maestroxv_> @NFLonFOX And they’ll get 5-6 primetime or stand alone games again next year lol. Because they’ll eventually figure it out.\n",
            "1581148578760003584 2022-10-15 05:02:52 +0000 <maestroxv_> @SEASportsPerson @NFLonFOX Not really. The Falcons and Lions wouldn’t have been primetime games lol. The 49ers and Saints maybe.\n",
            "1581145855973027840 2022-10-15 04:52:02 +0000 <maestroxv_> @MCTW5 @JoRo_NFL He wanted out of a coach and GM that has drafted poorly the last 5 years, has had a poor defense the last 4 years, and dismissed him when he had ideas about the offense.   I get you’re celebrating 5 weeks into the season, but at least be honest about it.\n",
            "1580986580554354689 2022-10-14 18:19:08 +0000 <maestroxv_> @late4567 @RammiesBCS @VicLombardi @Broncos Also death affects people differently. He talks about his Dad a lot and I think losing him really did influence his life perspective. Or maybe not, but I can say that personally it definitely influenced how much more positive and optimistic I am.\n",
            "1580780026613878786 2022-10-14 04:38:22 +0000 <maestroxv_> And yea maybe he’ll never be good, develop pocket presence or be able to play from the pocket. But damn at least let him fail to completion first.\n",
            "1580768574330716160 2022-10-14 03:52:52 +0000 <maestroxv_> @DawsonDeezKnox @treveyonszn @ByKimberleyA The laughable part about this career backup saying this…is he’s failed multiple times as a pocket passer. No one ever told Fitzpatrick to become a running QB mainly.\n",
            "1580768366985289728 2022-10-14 03:52:02 +0000 <maestroxv_> @LeGoat03824702 @DawsonDeezKnox @ByKimberleyA 1) He is wrong. Suggesting he can’t ever become a pocket QB is ridiculous. No one ever said that about Josh Allen or Trevor Lawrence after their struggles.  2) Cam was literally criticized for not LEARNING how to play from the pocket. So the criticism is there either way.\n",
            "1580767086120689664 2022-10-14 03:46:57 +0000 <maestroxv_> @Sportsphobic @DawsonDeezKnox @ByKimberleyA I’m really not\n",
            "1580767033859317760 2022-10-14 03:46:44 +0000 <maestroxv_> @BackshotsBrett @DawsonDeezKnox @ByKimberleyA As long as he gets the same exact patience as other QBs historically, there’s nothing to talk about.\n",
            "1580763203403145216 2022-10-14 03:31:31 +0000 <maestroxv_> @Robby_NFL Watch him look like prime Darrelle Revis on Monday 💀\n",
            "1580762649855348736 2022-10-14 03:29:19 +0000 <maestroxv_> @DawsonDeezKnox @ByKimberleyA Yes he did. He dismissed Field’s ability to ever grow into something better. That is never claimed about prototypical QBs.\n",
            "1580762411941826560 2022-10-14 03:28:22 +0000 <maestroxv_> @ByKimberleyA I thought we learned our lesson from Lamar Jackson about fitting people into boxes…  It’s like Fields isn’t allowed to grow, make mistakes, or look terrible. He has to run and then when he does, he’ll be criticized for not being a pocket passer. Can’t win either way.🥴\n",
            "1580760779728465920 2022-10-14 03:21:53 +0000 <maestroxv_> @FieldGulls Yea no one saw Geno coming. It's still early in the season but, it's also true that the schedule would be slightly different if Russ was still on the team. I wouldn't say the Falcons, Lions, or Saints are great primetime matchups.\n",
            "1580760197793914880 2022-10-14 03:19:34 +0000 <maestroxv_> @JoRo_NFL I'll never understand teams that get amazing depth at a position and decide it's time to move off a player. It's even weirder because most of this is motivated by Browning's play in a couple of games.\n",
            "1580759637472686081 2022-10-14 03:17:21 +0000 <maestroxv_> Listening to Sherman, Fitzpatrick, and Whitworth on the post game show discussing Justin Fields, you'd think they were talking about Lamar Jackson. There's this desire to force these QBs into a box instead of letting them go through the same growing pains as any pocket QB.\n",
            "1580634544423587840 2022-10-13 19:00:16 +0000 <maestroxv_> @ZacStevensDNVR They're having too many negative plays. On 3rd &amp; 7 or below for example Russ is converting on 62% of throws past the sticks. For context Mahomes and Herbert are 50%.   Russ has the most attempts on 3rd &amp; 8 or more. False starts, penalties. Main things to clean up.\n",
            "1580627452212105216 2022-10-13 18:32:05 +0000 <maestroxv_> @Travis94914418 @tvmvki @2nPac @kingston450 If your first response to race is \"black, white, whatever\" you're exposing that you can't be taken seriously. Russ is by all accounts a good human. Sherman and others are not. Somehow, it's difficult for ppl like you to accept that Sherm and others were cancers in the locker room\n",
            "Python 3.7.14 (default, Sep  8 2022, 00:06:44) \n",
            "Type 'copyright', 'credits' or 'license' for more information\n",
            "IPython 7.9.0 -- An enhanced Interactive Python. Type '?' for help.\n",
            "\n",
            "In [1]: exit\n",
            "\n"
          ]
        }
      ],
      "source": [
        "tweets = top_tweets([\"maestroxv_\"])\n",
        "nest_asyncio.apply()\n",
        "__import__('IPython').embed()"
      ]
    },
    {
      "cell_type": "code",
      "execution_count": 20,
      "metadata": {
        "colab": {
          "base_uri": "https://localhost:8080/"
        },
        "id": "4abjM1pZyFUP",
        "outputId": "0b94bad4-a12d-470e-aa2b-d909813a5516"
      },
      "outputs": [
        {
          "output_type": "stream",
          "name": "stderr",
          "text": [
            "Truncation was not explicitly activated but `max_length` is provided a specific value, please use `truncation=True` to explicitly truncate examples to max length. Defaulting to 'longest_first' truncation strategy. If you encode pairs of sequences (GLUE-style) with the tokenizer you can select this strategy more precisely by providing a specific strategy to `truncation`.\n"
          ]
        },
        {
          "output_type": "stream",
          "name": "stdout",
          "text": [
            "@JoshAllenGOD @NFLonCBS @CRose2u Yes and he's still not on Mahomes' level.\n",
            "{'toxic': 0.0153653985, 'severe_toxic': 0.00018454844, 'obscene': 0.0036855321, 'threat': 0.00023029803, 'insult': 0.0022679921, 'identity_hate': 0.00025379244}\n",
            "@NFLonCBS If Josh Allen had Mahomes' resume the media praise and obsession would reach unbearable levels. For all the praise people think Mahomes gets, there are still far too many who try to diminish what he's done.\n",
            "{'toxic': 0.0053509353, 'severe_toxic': 0.00013531702, 'obscene': 0.0009910738, 'threat': 0.0002707573, 'insult': 0.0010270023, 'identity_hate': 0.00021676735}\n",
            "@RyanDePaul @NFLonCBS It's actually laughable how desperate some of you are to diminish Mahomes.\n",
            "{'toxic': 0.063047156, 'severe_toxic': 0.0002434997, 'obscene': 0.0051698787, 'threat': 0.0003955332, 'insult': 0.007829023, 'identity_hate': 0.0005226145}\n",
            "@highoffness I will be damned if I gotta get an oil change for a damn stroller 💀\n",
            "{'toxic': 0.5506422, 'severe_toxic': 0.0046386546, 'obscene': 0.44974753, 'threat': 0.0010874014, 'insult': 0.07169899, 'identity_hate': 0.0036437444}\n",
            "@SeattleSeacrow @JakeMiller2021 @EliotCrist Ahh yes, that's the only reason. Cringey, nothing to do with double standards or racial stereotypes.  Again, when you people start to address the poor behavior of that locker room, we can actually get somewhere.\n",
            "{'toxic': 0.021033693, 'severe_toxic': 0.00015058607, 'obscene': 0.0018562522, 'threat': 0.00029607763, 'insult': 0.0029770574, 'identity_hate': 0.0007618048}\n",
            "@JakeMiller2021 @EliotCrist Lmao at you not hating on Russ. Self awareness is a struggle for you I'm guessing.  Even if I buy this, that's even more pathetic. Maybe invest that energy into those trying to demonize a positive role model like Russ.\n",
            "{'toxic': 0.18449451, 'severe_toxic': 0.00032232862, 'obscene': 0.01140844, 'threat': 0.00075482705, 'insult': 0.033445697, 'identity_hate': 0.00053218263}\n",
            "@BeerusYouBitch @Dria39 @RNT425 @EliotCrist Yes and he's no longer his teammate. As teammates, Russ never mistreated any of them...and none of them have stories to prove or claim otherwise.\n",
            "{'toxic': 0.029083122, 'severe_toxic': 0.00022098317, 'obscene': 0.0060465336, 'threat': 0.00035068105, 'insult': 0.004508609, 'identity_hate': 0.00047798664}\n",
            "@Damen_LaPlace @EliotCrist You're right. Sherman is a domestic offender that wanted Russ benched after his 1st game as a rookie. And has continuously hated on Russ for getting too much credit.  Lynch is no longer his teammate..and he admitted to rooting against Russ. Somehow you people find that acceptable\n",
            "{'toxic': 0.017925328, 'severe_toxic': 0.00013133501, 'obscene': 0.0018540906, 'threat': 0.00033472694, 'insult': 0.002753623, 'identity_hate': 0.00029953665}\n",
            "@SaintXavier_ @EliotCrist Idk for the same reason Russ went on vacation with DK. So what's your point?\n",
            "{'toxic': 0.0022919355, 'severe_toxic': 0.00015527022, 'obscene': 0.0008035597, 'threat': 0.00023017795, 'insult': 0.0006297475, 'identity_hate': 0.00013127555}\n",
            "@ManuelSwervin @kirbycar47 @EliotCrist I'm not a Broncos fan. I have been following the Seahawks for 12 years.   I'm defending him based on actual evidence. Everything points to Russ being a good person, and some going out of their way to pick on him for being \"different\" or \"corny,\" among other names he's been called\n",
            "{'toxic': 0.0017697343, 'severe_toxic': 0.00021872931, 'obscene': 0.00089468627, 'threat': 0.000309809, 'insult': 0.000628627, 'identity_hate': 0.00018981984}\n",
            "@oljameis @bleednsea84 @EliotCrist An asshole is Sherman, who threatened his family in a domestic incident.  Lynch also has off the field issues, if you want to go there.  An asshole is not someone who no longer talks to players that TRIED to bully from the very beginning.. and didn't think he was \"black enough.\"\n",
            "{'toxic': 0.9459882, 'severe_toxic': 0.029225936, 'obscene': 0.9036777, 'threat': 0.0015436515, 'insult': 0.61005074, 'identity_hate': 0.008303103}\n",
            "@JakeMiller2021 @EliotCrist Sorry I keep interrupting your Russ hate fest. You people are frothing at the mouth everyday with hate.  If you're seeing me this often, you're here as often as I am. Everyday there's this weird, disturbing, likely motivated by subconscious bias..Russ hate. Did he commit a crime?\n",
            "{'toxic': 0.27045962, 'severe_toxic': 0.00051552657, 'obscene': 0.015235524, 'threat': 0.001203168, 'insult': 0.037555248, 'identity_hate': 0.0016540516}\n",
            "@SeattleSeacrow @JakeMiller2021 @EliotCrist Weird how Pat Mahomes was never called \"Carlton.\" Almost as if there are dynamics within the black community most of you don't understand.   Nice deflection tho, but the fact of the matter is several divisive players in that locker room chose to pick on Russ for being different\n",
            "{'toxic': 0.01215815, 'severe_toxic': 0.00022114527, 'obscene': 0.00203128, 'threat': 0.00026879864, 'insult': 0.0018501177, 'identity_hate': 0.0008208041}\n",
            "@R6Noob_ @DawsonDeezKnox @ByKimberleyA Why shouldn't he develop himself as a pocket passer just like Zach Wilson, Trevor Lawrence, Josh Allen, or literally any other QB that is good at being an athlete? You guys refuse to answer that question, it doesn't add up.\n",
            "{'toxic': 0.048695896, 'severe_toxic': 0.00022069893, 'obscene': 0.0050078863, 'threat': 0.0004333474, 'insult': 0.0069099474, 'identity_hate': 0.00042881625}\n",
            "@plankyyt @LeGoat03824702 @DawsonDeezKnox @ByKimberleyA Did anyone tell Josh Allen or Trevor Lawrence to stick to running and that they won't become pocket QBs?\n",
            "{'toxic': 0.006583133, 'severe_toxic': 0.00017721647, 'obscene': 0.0019098532, 'threat': 0.00028442167, 'insult': 0.0012933544, 'identity_hate': 0.00027682958}\n",
            "@Travis94914418 @tvmvki @2nPac @kingston450 It doesn't take two sides. Picking on people isn't uncommon, and sometimes it's one side that is toxic. We have actual evidence that Sherman is toxic and several of those teammates have off the field issues. You clearly don't understand the race dynamics of this either.\n",
            "{'toxic': 0.007428018, 'severe_toxic': 0.00014527142, 'obscene': 0.0013918761, 'threat': 0.00026858627, 'insult': 0.0011431496, 'identity_hate': 0.00031739377}\n",
            "@sugarbets_ @EliotCrist Kyle Brandt mentioned his wife could have talked about Russ' children and I genuinely think most of you would defend it.  I've only seen the most garbage bottom of the barrel people defend Kyle's rant. People who probably take joy picking on others.\n",
            "{'toxic': 0.07125904, 'severe_toxic': 0.000231953, 'obscene': 0.0060349037, 'threat': 0.00047329362, 'insult': 0.008842827, 'identity_hate': 0.00068901776}\n",
            "@Rumrunner11 @bleednsea84 The same amount of time you all spend every day hating on him. Literally you people are relentlessly posting about him. You only complain about the people who have the basic integrity to call it out.\n",
            "{'toxic': 0.16946033, 'severe_toxic': 0.00033639927, 'obscene': 0.0072917202, 'threat': 0.00084631244, 'insult': 0.017549468, 'identity_hate': 0.0011433151}\n",
            "@MandiblePatella @RichKurtzman @PFF None of what you're saying here makes sense.  Again...do you need this to be explained to you like a 5 year old...why it is inappropriate for a media entity to treat or portray QBs differently from others? Yes or no?  Russ is not the first hyped \"savior\" QB to struggle.\n",
            "{'toxic': 0.06666731, 'severe_toxic': 0.0002789914, 'obscene': 0.0045732413, 'threat': 0.0004298937, 'insult': 0.0076341107, 'identity_hate': 0.0006171154}\n",
            "@NFTBoyfriend @pjj_dakota @EliotCrist Russell Wilson went on vacation with DK Metcalf. Doesn't mean everyone has his phone number.\n",
            "{'toxic': 0.004158917, 'severe_toxic': 0.00019621839, 'obscene': 0.0013519704, 'threat': 0.00019915748, 'insult': 0.0011273371, 'identity_hate': 0.00022357212}\n",
            "@sugarbets_ @TheJonTebay @EliotCrist Because people are completely lying about what Marshawn said. He is saying he does not have access to Russ NOW. As in currently. Not as teammates 7 years ago. Which is how many people here are framing it.\n",
            "{'toxic': 0.0049371347, 'severe_toxic': 0.00012243478, 'obscene': 0.00091157743, 'threat': 0.0002236169, 'insult': 0.00086668343, 'identity_hate': 0.00019151455}\n",
            "@RNT425 @Iamnoonestool @EliotCrist I would much rather support the Walter Payton Man of the Year than shamelessly spend every day trying to tear him down for no reason.  You're so desperate to demonize the dude...the only thing you guys can find is he no longer connects with teammates who rooted against him.\n",
            "{'toxic': 0.24941, 'severe_toxic': 0.0012038746, 'obscene': 0.0326437, 'threat': 0.002103576, 'insult': 0.048061173, 'identity_hate': 0.0034275595}\n",
            "@Dria39 @sugarbets_ @EliotCrist They could talk about Russ' kids next and they would excuse it.   Even if this was true, a player has a right to no longer keep in touch with teammates who rooted against him.\n",
            "{'toxic': 0.002946433, 'severe_toxic': 0.00013481126, 'obscene': 0.00065639225, 'threat': 0.00027334693, 'insult': 0.00074135856, 'identity_hate': 0.00018942513}\n",
            "@SeattleSeacrow @JakeMiller2021 @EliotCrist Nah Lynch just chose to root against a player and was part of that locker room that didn't think Russ was black enough.\n",
            "{'toxic': 0.045470174, 'severe_toxic': 0.0002139469, 'obscene': 0.0047237216, 'threat': 0.00043892374, 'insult': 0.0063520335, 'identity_hate': 0.0012980175}\n",
            "@JakeMiller2021 @EliotCrist Maybe one day you idiots will stop obsessing over a QB you hate so much. You don't feel guilty for hating a black QB with no off the field issues for no reason? Sad, do better.\n",
            "{'toxic': 0.80012894, 'severe_toxic': 0.0029168287, 'obscene': 0.14795849, 'threat': 0.0039541074, 'insult': 0.5136308, 'identity_hate': 0.004530984}\n",
            "@SpeCooks @EliotCrist Sure. Just as DK has Russ' number. Even Carlos Dunlap had Russ' number. So does Penny Hart probably.\n",
            "{'toxic': 0.001945215, 'severe_toxic': 0.00015913602, 'obscene': 0.000791882, 'threat': 0.00018557717, 'insult': 0.00069577596, 'identity_hate': 0.00020083156}\n",
            "@bleednsea84 @EliotCrist Vince Wilfork and Willie McGinest are as close with Brady as DK, Lockett, Justin Britt, and others were with Russ.  Are you arguing that all of Brady's former teammates who won with him...have his current phone number and can just call him at any time?\n",
            "{'toxic': 0.0033281045, 'severe_toxic': 0.0002043196, 'obscene': 0.0014586082, 'threat': 0.00020903173, 'insult': 0.00082617765, 'identity_hate': 0.000265901}\n",
            "@kirbycar47 @EliotCrist Russ acted in what way? Like any franchise QB?  Those core players mistreated himi from the beginning. Do you need to have your memory refreshed?\n",
            "{'toxic': 0.008007198, 'severe_toxic': 0.0001379812, 'obscene': 0.0012182948, 'threat': 0.0003186341, 'insult': 0.001492239, 'identity_hate': 0.0001576637}\n",
            "@RNT425 @PrimeKlaw @EliotCrist It's Sherman, Doug, who else?  Let's do a character comparison.\n",
            "{'toxic': 0.001019748, 'severe_toxic': 0.0001828477, 'obscene': 0.0006156499, 'threat': 0.00022335436, 'insult': 0.00048233313, 'identity_hate': 0.00017840444}\n",
            "@RNT425 @EliotCrist While you're presumably doing research, why don't you tell me why Sherman could offer no actual bad thing Russ did.   Imagine taking the side of players with a million off the field issues..versus a player whose worst crime is...disconnecting from players who mistreated him.\n",
            "{'toxic': 0.01105215, 'severe_toxic': 0.000179242, 'obscene': 0.0015811538, 'threat': 0.00035962847, 'insult': 0.0018118938, 'identity_hate': 0.00032060622}\n",
            "@RNT425 @EliotCrist Why don't you ask yourself why a locker room that didn't think Russ was black enough, or that wanted him benched after his FIRST game...rooted against him.  You can only insult me, but you're not going to win an argument on facts. Let's talk about how they attempted to bully him.\n",
            "{'toxic': 0.13809893, 'severe_toxic': 0.0003517822, 'obscene': 0.0069002137, 'threat': 0.00095941045, 'insult': 0.017132225, 'identity_hate': 0.0015422037}\n",
            "@twitgabrielR10 @EliotCrist Lmao at also assuming Blount has Brady on speed dial all of these years later. Athletes change their phone numbers and they're not all bffs.   Edgerrin and Peyton were actually cool, but not all teammates are close. Just admit you don't care about being fair on this topic. 😂\n",
            "{'toxic': 0.011017254, 'severe_toxic': 0.0002520163, 'obscene': 0.0048348648, 'threat': 0.00020877058, 'insult': 0.003017948, 'identity_hate': 0.0005029423}\n",
            "@mgomarley @twitgabrielR10 @EliotCrist Lmao they make no sense. Their only logic is hating Russ, nothing else.  They haven't been teammates in 7 years, and Lynch admits to rooting against him after. Why would they have numbers exchanged with that kind of energy?\n",
            "{'toxic': 0.019901166, 'severe_toxic': 0.00019924181, 'obscene': 0.002342583, 'threat': 0.00028024943, 'insult': 0.0026080022, 'identity_hate': 0.00041739654}\n",
            "@twitgabrielR10 @EliotCrist You must be a high school kid 💀.   Lynch is clearly admitting that he rooted against Russ. He isn't saying he didn't have Russ' number WHILE they were teammates.  Russ connected with plenty of other teammates. He also texted with Lynch according to this 2014 ESPN article:  https://t.co/o16l05UgDJ\n",
            "{'toxic': 0.032771356, 'severe_toxic': 0.00019938702, 'obscene': 0.004192828, 'threat': 0.00043365484, 'insult': 0.006564784, 'identity_hate': 0.00045886284}\n",
            "@bleednsea84 There's nothing to defend. Lynch is saying he doesn't have his current number. Why would Russ go out of his way to communicate with someone who is literally admitting he didn't want him to succeed?  Or Sherm, who was openly hostile towards Russ?\n",
            "{'toxic': 0.01603114, 'severe_toxic': 0.00014823879, 'obscene': 0.0018233957, 'threat': 0.00027509022, 'insult': 0.001985457, 'identity_hate': 0.00022908629}\n",
            "@RossiBlrossi67 I've been saying for years I wanted Russ to be in a new environment. It's been my opinion that he wasn't treated like a franchise QB normally is. And re-reading old articles...I stand by that. He texts Courtland Sutton and other teammates all the time.\n",
            "{'toxic': 0.0014821225, 'severe_toxic': 0.00018483725, 'obscene': 0.0007346526, 'threat': 0.00022972607, 'insult': 0.0005876547, 'identity_hate': 0.00016591833}\n",
            "@djschoen24 @SeahawkNerd I actually knew this would be the one clip they would nitpick. That's how much they hate Russ and I'm honestly glad he got away from this fan base, ex-teammates, and city.   If you look at everything he's been put through since his rookie season, he should have left sooner.\n",
            "{'toxic': 0.040054657, 'severe_toxic': 0.0002631234, 'obscene': 0.005814684, 'threat': 0.00044871066, 'insult': 0.00508739, 'identity_hate': 0.0007861007}\n",
            "@damnit_mann @OfLewiston @SeahawkNerd Russ has no obligation to keep in touch with people who mistreat him, especially since they're no longer teammates. Having his number as a teammate and having his new number as an ex-teammate are two different things.\n",
            "{'toxic': 0.091728866, 'severe_toxic': 0.000402453, 'obscene': 0.03671852, 'threat': 0.00040345927, 'insult': 0.012919341, 'identity_hate': 0.00043048014}\n",
            "@Chase_Kimba11 @OfLewiston @SeahawkNerd They're not his brothers and were never supportive of him. Russ and Marshawn haven't been teammates for 7 years. You're all assuming Russ' number never changed.\n",
            "{'toxic': 0.0030665887, 'severe_toxic': 0.00015069093, 'obscene': 0.001199084, 'threat': 0.00026317307, 'insult': 0.0009951498, 'identity_hate': 0.00016950462}\n",
            "@FieldGulls Damn…Game Over 💀\n",
            "{'toxic': 0.6100999, 'severe_toxic': 0.007344717, 'obscene': 0.44666106, 'threat': 0.002596996, 'insult': 0.09498667, 'identity_hate': 0.0056754192}\n",
            "@SeattleSportsF @RichKurtzman @PFF It definitely is. The internet isn’t the place for just group think, sorry.   I overlook a lot of anti-Russ stuff. If this wasn’t PFF…an official source that is prominent beyond the internet…you would make sense.\n",
            "{'toxic': 0.0019807818, 'severe_toxic': 0.00019360485, 'obscene': 0.0007895123, 'threat': 0.00020537295, 'insult': 0.0005724252, 'identity_hate': 0.00032926223}\n",
            "@SeattleSportsF @RichKurtzman @PFF Are you in high school?  Yes, it’s just a face filter. But this is PFF, not a NFL Meme account.   Do I have to explain in basic terms why it’s abnormal to single out a QB and mock them? Did PFF or Seth do that to another QB? Yes or No? Answer that directly and we can evaluate.\n",
            "{'toxic': 0.025061008, 'severe_toxic': 0.00022820904, 'obscene': 0.004302735, 'threat': 0.00030398607, 'insult': 0.003922837, 'identity_hate': 0.0005604591}\n",
            "@themaryone1 Lol at Duane Brown not having his number even though him and his wife hung out with Russ and Ciara.   Numbers change. Lynch didn’t say he didn’t have his number while they played together. He said he doesn’t have it now. Why should he when he admits he was rooting against Russ?\n",
            "{'toxic': 0.008014685, 'severe_toxic': 0.0001457768, 'obscene': 0.002030588, 'threat': 0.00020509644, 'insult': 0.0015957846, 'identity_hate': 0.00026744406}\n",
            "@bobgar79821 @themaryone1 The truth doesn’t matter to them. It doesn’t matter that Lockett hung out with him and DK went on vacation with him.\n",
            "{'toxic': 0.010121852, 'severe_toxic': 0.0001565205, 'obscene': 0.0012837461, 'threat': 0.00028217447, 'insult': 0.0016335339, 'identity_hate': 0.00024525184}\n",
            "@Occams_Rager_ @tressnine @blCarpenio @SeahawkNerd Do you know that Russ has the same phone number from his rookie season? Or are you just making things up as a troll account?\n",
            "{'toxic': 0.043356206, 'severe_toxic': 0.00022345746, 'obscene': 0.00471577, 'threat': 0.00039662985, 'insult': 0.005722422, 'identity_hate': 0.00061682076}\n",
            "@Occams_Rager_ @blCarpenio @SeahawkNerd Yea DK and Tyler totally don’t have his number despite literally hanging out with him. And traveling with him.\n",
            "{'toxic': 0.05609319, 'severe_toxic': 0.0003492571, 'obscene': 0.013121006, 'threat': 0.0004521307, 'insult': 0.008275311, 'identity_hate': 0.0005414148}\n",
            "@Occams_Rager_ @blCarpenio @SeahawkNerd Lynch didn’t say he didn’t have his number WHILE playing with him. He also admitted to rooting against Russ.   Maybe if they didn’t make Russ feel like he wasn’t “black enough.” Or if they didn’t beg for him to be benched after week 1 of his rookie season, you’d have an argument.\n",
            "{'toxic': 0.059076875, 'severe_toxic': 0.0004746312, 'obscene': 0.009632511, 'threat': 0.0006371985, 'insult': 0.008663036, 'identity_hate': 0.0019754234}\n",
            "@bbish1112 @EliotCrist And Russ went on vacation with DK. Even taught DK how to swim.\n",
            "{'toxic': 0.00304676, 'severe_toxic': 0.00024403962, 'obscene': 0.0012569729, 'threat': 0.0003644028, 'insult': 0.00097473926, 'identity_hate': 0.0002954564}\n",
            "@twitgabrielR10 @EliotCrist Okay so pretty much you have no comparison or argument to make, cool lol.   You can only justify this if you hold Russ to a different standard. Which is pretty much what Sherman and other teammates wanted...for Russ to not be treated like any prototypical franchise QB.\n",
            "{'toxic': 0.008916448, 'severe_toxic': 0.00017849513, 'obscene': 0.0025144075, 'threat': 0.00027082546, 'insult': 0.0016485881, 'identity_hate': 0.0002705942}\n",
            "@MandiblePatella @RichKurtzman @PFF I do agree though that official journalists and analysts are starting to behave like NFL Meme accounts. Can't really tell the difference.  I expect immature twitter trolls to share stuff like this. But this isn't normal unless you can point to similar examples (you prob cant).\n",
            "{'toxic': 0.05518569, 'severe_toxic': 0.00019041549, 'obscene': 0.004543484, 'threat': 0.0003640222, 'insult': 0.0059670676, 'identity_hate': 0.00042873042}\n",
            "@MandiblePatella @RichKurtzman @PFF A TikTok filter isn't a personal attack...if the SAME thing is done to other QBs.   Otherwise it falls in the same biased pattern of photoshopping Russ and Jeffrey Dahmer. Or Kyle Brandt mentioning Russ' wife.  If Seth has done this to others, cool. But PFF is not a troll account\n",
            "{'toxic': 0.0032516709, 'severe_toxic': 0.00015749423, 'obscene': 0.0014350204, 'threat': 0.00018767409, 'insult': 0.0008497831, 'identity_hate': 0.00019172869}\n",
            "@pff_seth As for Geno, I only wish he'll be analyzed fairly/accurately for what he is. Right now he's being exclusively praised for not being Russ, which will set false expectations. The early flaws of the Seahawks offense has been overlooked because of how bad the Broncos offense has been\n",
            "{'toxic': 0.004150451, 'severe_toxic': 0.00014952057, 'obscene': 0.0011382792, 'threat': 0.00025994616, 'insult': 0.00097598357, 'identity_hate': 0.00020553944}\n",
            "@pff_seth The weird unnecessary photoshop aside, this leaves out some data.  From the pocket, his intermediate middle target rate is on par with Herbert, Allen, Rodgers. His on target percentage was fine prior to the Colts game. This isn't fully reflective of what's happened week to week.\n",
            "{'toxic': 0.00087548484, 'severe_toxic': 0.00022286279, 'obscene': 0.00056809484, 'threat': 0.00019689044, 'insult': 0.0003673165, 'identity_hate': 0.00014904114}\n",
            "@itsallaruse_ @pff_seth Yea it has some good information but it's pretty slanted. Leaves a lot of data on the table with the goal of confirming biases..and then working backwards from there.   Which is sad because imo, those with a platform should share more complete information.\n",
            "{'toxic': 0.0024313151, 'severe_toxic': 0.00015294382, 'obscene': 0.0008530307, 'threat': 0.00019609794, 'insult': 0.0005856616, 'identity_hate': 0.00018418946}\n",
            "@bumbaclot09 @sessi_stassia @AquillonVT @OfLewiston @SeahawkNerd DK literally went on vacation with Russ. Tyler calls Russ his best friend. This is basic information. Letting Sherman…who has always been hostile…and Lynch…who admitted he rooted against Russ paint the entire picture makes no sense.   Also this is what teammates posted  https://t.co/NauDpUEiPc\n",
            "{'toxic': 0.03170233, 'severe_toxic': 0.0003534945, 'obscene': 0.0069655334, 'threat': 0.00038955983, 'insult': 0.005417359, 'identity_hate': 0.0008097459}\n",
            "@BDChiefsFan @Stay1nTheKnow @prime_roy3 @SeahawkNerd One admitted he rooted against Russ. The other has been openly hostile towards Russ since he was a rookie. So much so Michael Bennett had to fight him. And he has never been able to name the bad thing Russ did to him.\n",
            "{'toxic': 0.0124744, 'severe_toxic': 0.00015769499, 'obscene': 0.0020142675, 'threat': 0.000301282, 'insult': 0.0021139053, 'identity_hate': 0.00034760864}\n",
            "@getnickwright It’s a microcosm of American society. Unless racism is blatantly in their face…with red sirens, a big “Racism is here” sign, and it’s in 8K video quality…the instincts for a lot of Americans is to dismiss racism. The mere thought offends them. 🤷🏾‍♂️\n",
            "{'toxic': 0.10981124, 'severe_toxic': 0.0020121778, 'obscene': 0.015120691, 'threat': 0.0019041987, 'insult': 0.017677877, 'identity_hate': 0.025245214}\n",
            "@EliotCrist They’re no longer teammates, so two questions.  1. Lynch openly admitted in this inteview he rooted against Russ. Why would Russ embrace that negativity?  2. Tom Brady has had over 200 teammates. You think each and every one of them have his number? Same for Peyton? Joe Montana?  https://t.co/pIlRgxbABr\n",
            "{'toxic': 0.005241536, 'severe_toxic': 0.00013469908, 'obscene': 0.0013072877, 'threat': 0.00022834899, 'insult': 0.0011356154, 'identity_hate': 0.00024780256}\n",
            "@gfienberg17 @RichKurtzman @PFF The internet enables personal attacks against some athletes and protection of others.   It explains why it was acceptable to photoshop Russ with Jeffrey Dahmer a couple of weeks ago. There's no line anymore and people aren't decent enough to say that.\n",
            "{'toxic': 0.005775001, 'severe_toxic': 0.00014271027, 'obscene': 0.0011231804, 'threat': 0.00022034548, 'insult': 0.0010823596, 'identity_hate': 0.00025066308}\n",
            "@RichKurtzman @PFF There's not a single QB in the league that some in the media get a free pass to personally attack at will. Maybe Lamar Jackson is the other, but it's odd.\n",
            "{'toxic': 0.0025080326, 'severe_toxic': 0.00015395868, 'obscene': 0.0011825165, 'threat': 0.00021316092, 'insult': 0.000655746, 'identity_hate': 0.00017418373}\n",
            "@brett98072 @SweetNita5 @BrettRevolt @pff_seth The Seahawks offense were in the bottom 10 until the Lions game. Unless the offense surpasses Russ' offenses in points per game and yards, complaints about Russ' limitations are meritless. If Broncos had what Seahawks fans had with Russ they'd be ecstatic.\n",
            "{'toxic': 0.0026991756, 'severe_toxic': 0.00018842753, 'obscene': 0.0011517731, 'threat': 0.00023813336, 'insult': 0.0008675891, 'identity_hate': 0.0003224915}\n",
            "@ericeager_ Whatever Kirk Cousins or Jared Goff would get. Which may sound like an insult to some, but I think that's where Geno lands when it's all said and done. A really good QB that can play especially well when the structure around him is sound.\n",
            "{'toxic': 0.0030287907, 'severe_toxic': 0.00013896528, 'obscene': 0.0013825004, 'threat': 0.0002442051, 'insult': 0.0009030487, 'identity_hate': 0.00015036152}\n",
            "@MattVerderame It really isn't when Lynch himself admits he was rooting against Russ.\n",
            "{'toxic': 0.0025493817, 'severe_toxic': 0.00019570586, 'obscene': 0.00057799096, 'threat': 0.00033804387, 'insult': 0.00054413336, 'identity_hate': 0.00013600923}\n",
            "@prime_roy3 @SeahawkNerd “I ain’t gon hold you I ain’t wanna see it in Seattle.”  Bad immature vibes all around and Russ is expected to not be human.   I also doubt this is unprecedented. The idea that every ex-player can just call Joe Montana, Brady, Peyton, etc. is kinda laughable in general.\n",
            "{'toxic': 0.11907715, 'severe_toxic': 0.00057262956, 'obscene': 0.018871143, 'threat': 0.0006313903, 'insult': 0.019642636, 'identity_hate': 0.0017226876}\n",
            "For Marshawn I think it was more about maintaining a legacy and not being overshadowed. But it makes sense why Russ would be guarded. That kind of energy is unusual. Pretty sure Jimmy Graham, DK, Lockett, Britt, and others have his number.  https://t.co/DuCGV1veYF\n",
            "{'toxic': 0.00088793604, 'severe_toxic': 0.00016620399, 'obscene': 0.0006148952, 'threat': 0.00021337383, 'insult': 0.000407901, 'identity_hate': 0.00015158775}\n",
            "@prime_roy3 @SeahawkNerd Yea. In one part of the clip he talks about some Seahawks players. In another he says this, and I think it was more of a legacy/getting the credit thing. But it would explain Russ being guarded:  https://t.co/zYYVQKtH8C\n",
            "{'toxic': 0.001354626, 'severe_toxic': 0.00017028967, 'obscene': 0.0007520987, 'threat': 0.00018577406, 'insult': 0.00046709552, 'identity_hate': 0.00015084562}\n",
            "@YinzBurgh22 @BackshotsBrett @DawsonDeezKnox @ByKimberleyA How many of these QBs were told to stick to being running QBs, instead of being allowed to grow into it?\n",
            "{'toxic': 0.0060524456, 'severe_toxic': 0.00014504607, 'obscene': 0.0017918088, 'threat': 0.00022973878, 'insult': 0.0012394506, 'identity_hate': 0.00019868428}\n",
            "@YinzBurgh22 @BackshotsBrett @DawsonDeezKnox @ByKimberleyA Trubisky was given 3 years to fail.  Darnold was given 3 years to fail. Rosen was given multiple chance to fail.  Love was never given a real opportunity.  Haskins was never given an extended opportunity.  Goff was given 5 years and is STILL a starter.  Wentz is still a starter.\n",
            "{'toxic': 0.011538608, 'severe_toxic': 0.00017326801, 'obscene': 0.002018719, 'threat': 0.00027436911, 'insult': 0.0020601293, 'identity_hate': 0.00025381058}\n",
            "@Sportsphobic @DawsonDeezKnox @ByKimberleyA Nah\n",
            "{'toxic': 0.04601345, 'severe_toxic': 0.000387271, 'obscene': 0.009041236, 'threat': 0.0004426807, 'insult': 0.00562292, 'identity_hate': 0.0010566893}\n",
            "@sootkoos @LeGoat03824702 @DawsonDeezKnox @ByKimberleyA Yes, that’s my point. He was given the GRACE to grow into a QB. No one told him to stick to running. Not even the analysts criticizing him.\n",
            "{'toxic': 0.004301785, 'severe_toxic': 0.00013188469, 'obscene': 0.0012767306, 'threat': 0.0002651752, 'insult': 0.00093376555, 'identity_hate': 0.00013856663}\n",
            "@LeGoat03824702 @DawsonDeezKnox @ByKimberleyA Josh Allen and Trevor Lawrence sucked at football in their early years. So you don’t really have an argument.   Tell me how good Trevor Lawrence was last year. Or how good Josh Allen was his first 2 years. Do it without exposing your biases too much.\n",
            "{'toxic': 0.17326443, 'severe_toxic': 0.00055051845, 'obscene': 0.04601662, 'threat': 0.0005729795, 'insult': 0.028966194, 'identity_hate': 0.0008764956}\n",
            "@dailydoseof0 @SeahawkNerd He literally admitted he was rooting against Russ. You don’t think that’s negative energy?\n",
            "{'toxic': 0.016033698, 'severe_toxic': 0.00014731514, 'obscene': 0.0014015416, 'threat': 0.0002828581, 'insult': 0.0017650981, 'identity_hate': 0.00027184497}\n",
            "@bumbaclot09 @sessi_stassia @AquillonVT @OfLewiston @SeahawkNerd Lynch admitted he was rooting against Russ.   Pretty sure DK, Lockett, Justin Britt, among others can call Russ directly.\n",
            "{'toxic': 0.008563434, 'severe_toxic': 0.00015520463, 'obscene': 0.0022704082, 'threat': 0.00020981107, 'insult': 0.0016159728, 'identity_hate': 0.0002573615}\n",
            "Marshawn openly admits in this interview that he was rooting for Russ to fail. And that other teammates were as well.   Michael Robinson literally admitted that Sherman and others wanted Russ benched after his FIRST game.   The hostility was there unprovoked from the beginning.\n",
            "{'toxic': 0.0025183307, 'severe_toxic': 0.00018093335, 'obscene': 0.00068509096, 'threat': 0.0004297126, 'insult': 0.0007082927, 'identity_hate': 0.00018790239}\n",
            "@rsbyjck @DaveMinar @SeahawkNerd He didn’t lie. He actually admitted he rooted against Russ. Russ has never mistreated any of his teammates, can’t say the same for them.\n",
            "{'toxic': 0.0066104056, 'severe_toxic': 0.00013756855, 'obscene': 0.0009908539, 'threat': 0.00031337465, 'insult': 0.0012195099, 'identity_hate': 0.0002132638}\n",
            "@SeahawkNerd It’s amazing how easily misinformation and bias spreads.   In this video, Marshawn literally admits…OUT LOUD…that he rooted against Russ. And that other teammates rooted against Russ. Prob the same teammates that mistreated him as a rookie. Yet Russ shouldn’t be guarded.\n",
            "{'toxic': 0.009200564, 'severe_toxic': 0.00018169248, 'obscene': 0.001583624, 'threat': 0.00027909648, 'insult': 0.0015024879, 'identity_hate': 0.00027914756}\n",
            "@dailydoseof0 @SeahawkNerd Marshawn literally tells you in the video. The other teammates were rooting against him.\n",
            "{'toxic': 0.007457565, 'severe_toxic': 0.00015328225, 'obscene': 0.0012387041, 'threat': 0.0002947252, 'insult': 0.0011186837, 'identity_hate': 0.00021321542}\n",
            "@AquillonVT @OfLewiston @SeahawkNerd Marshawn literally admitted he rooted against Russ as a Seahawk. And so did other teammates.\n",
            "{'toxic': 0.008320141, 'severe_toxic': 0.00014981869, 'obscene': 0.001982953, 'threat': 0.00035338584, 'insult': 0.0017759434, 'identity_hate': 0.00032450576}\n",
            "@Blaisien_ @SeahawkNerd So let me get this straight. Marshawn Lynch openly admitted that he and other teammates were rooting for him to fail, Sherman and others were hostile towards him…and Russ should just take it?  Can you guys try making sense for a moment? Pretend we’re not discussing Russ.\n",
            "{'toxic': 0.007316192, 'severe_toxic': 0.00017342222, 'obscene': 0.0013073351, 'threat': 0.00026663084, 'insult': 0.0014356532, 'identity_hate': 0.00027702894}\n",
            "@R6Noob_ @DawsonDeezKnox @treveyonszn @ByKimberleyA That doesn’t make sense. So because Fields can run, he shouldn’t use his early years to develop as a pocket passer? The one thing QBs like him are often criticized for?\n",
            "{'toxic': 0.01748567, 'severe_toxic': 0.0001617525, 'obscene': 0.0026174781, 'threat': 0.00024887634, 'insult': 0.0029086513, 'identity_hate': 0.0002545825}\n",
            "@kingston450 @late4567 @RammiesBCS @VicLombardi @Broncos Totally agree. Some will never understand.\n",
            "{'toxic': 0.0027039933, 'severe_toxic': 0.00017773428, 'obscene': 0.00078207045, 'threat': 0.00024244054, 'insult': 0.0005710419, 'identity_hate': 0.00024385376}\n",
            "@BrettKollmann Geno was always talented. He was robbed of an opportunity for years but..there’s no denying that some time sitting probably helped him as well. But it shouldn’t have taken him 8 years to get another chance. Great QBs can in fact overcome bad structure though, to an extent.\n",
            "{'toxic': 0.0019784404, 'severe_toxic': 0.00019044819, 'obscene': 0.00096520624, 'threat': 0.0002953305, 'insult': 0.0007699237, 'identity_hate': 0.00019989736}\n",
            "@PFF It’s crazy how the NFL works. Because if fans had their way Drew Lock would’ve been the starter. A lot of season left but Geno was the right decision. Bias can erase careers.\n",
            "{'toxic': 0.025911715, 'severe_toxic': 0.00019435876, 'obscene': 0.0029227242, 'threat': 0.00030365642, 'insult': 0.0024467339, 'identity_hate': 0.000501208}\n",
            "@NFLonFOX And they’ll get 5-6 primetime or stand alone games again next year lol. Because they’ll eventually figure it out.\n",
            "{'toxic': 0.001358447, 'severe_toxic': 0.00023984346, 'obscene': 0.0006900948, 'threat': 0.0002690753, 'insult': 0.00042732296, 'identity_hate': 0.0002307387}\n",
            "@SEASportsPerson @NFLonFOX Not really. The Falcons and Lions wouldn’t have been primetime games lol. The 49ers and Saints maybe.\n",
            "{'toxic': 0.0010957625, 'severe_toxic': 0.000222602, 'obscene': 0.0006743502, 'threat': 0.0002749701, 'insult': 0.0004302002, 'identity_hate': 0.00022858623}\n",
            "@MCTW5 @JoRo_NFL He wanted out of a coach and GM that has drafted poorly the last 5 years, has had a poor defense the last 4 years, and dismissed him when he had ideas about the offense.   I get you’re celebrating 5 weeks into the season, but at least be honest about it.\n",
            "{'toxic': 0.0034307875, 'severe_toxic': 0.00016686664, 'obscene': 0.000990953, 'threat': 0.00026367966, 'insult': 0.00083899533, 'identity_hate': 0.00020183518}\n",
            "@late4567 @RammiesBCS @VicLombardi @Broncos Also death affects people differently. He talks about his Dad a lot and I think losing him really did influence his life perspective. Or maybe not, but I can say that personally it definitely influenced how much more positive and optimistic I am.\n",
            "{'toxic': 0.0050437124, 'severe_toxic': 0.00016341312, 'obscene': 0.0010765161, 'threat': 0.00027877497, 'insult': 0.0009019854, 'identity_hate': 0.00019539298}\n",
            "And yea maybe he’ll never be good, develop pocket presence or be able to play from the pocket. But damn at least let him fail to completion first.\n",
            "{'toxic': 0.3333451, 'severe_toxic': 0.0017938107, 'obscene': 0.25359884, 'threat': 0.0005941089, 'insult': 0.03524942, 'identity_hate': 0.0012936292}\n",
            "@DawsonDeezKnox @treveyonszn @ByKimberleyA The laughable part about this career backup saying this…is he’s failed multiple times as a pocket passer. No one ever told Fitzpatrick to become a running QB mainly.\n",
            "{'toxic': 0.0108695235, 'severe_toxic': 0.000166852, 'obscene': 0.0022508746, 'threat': 0.00025564202, 'insult': 0.0017976698, 'identity_hate': 0.00024012444}\n",
            "@LeGoat03824702 @DawsonDeezKnox @ByKimberleyA 1) He is wrong. Suggesting he can’t ever become a pocket QB is ridiculous. No one ever said that about Josh Allen or Trevor Lawrence after their struggles.  2) Cam was literally criticized for not LEARNING how to play from the pocket. So the criticism is there either way.\n",
            "{'toxic': 0.031333085, 'severe_toxic': 0.00015031666, 'obscene': 0.0035213833, 'threat': 0.00028549696, 'insult': 0.004280098, 'identity_hate': 0.00026806668}\n",
            "@Sportsphobic @DawsonDeezKnox @ByKimberleyA I’m really not\n",
            "{'toxic': 0.028826505, 'severe_toxic': 0.00037512538, 'obscene': 0.0029157053, 'threat': 0.0004897941, 'insult': 0.003274235, 'identity_hate': 0.00074903585}\n",
            "@BackshotsBrett @DawsonDeezKnox @ByKimberleyA As long as he gets the same exact patience as other QBs historically, there’s nothing to talk about.\n",
            "{'toxic': 0.0043163677, 'severe_toxic': 0.00016709942, 'obscene': 0.001326703, 'threat': 0.00022766335, 'insult': 0.00097570085, 'identity_hate': 0.00019995721}\n",
            "@Robby_NFL Watch him look like prime Darrelle Revis on Monday 💀\n",
            "{'toxic': 0.01586892, 'severe_toxic': 0.00018174914, 'obscene': 0.0027725813, 'threat': 0.0003050914, 'insult': 0.0025111863, 'identity_hate': 0.00025856934}\n",
            "@DawsonDeezKnox @ByKimberleyA Yes he did. He dismissed Field’s ability to ever grow into something better. That is never claimed about prototypical QBs.\n",
            "{'toxic': 0.0027842952, 'severe_toxic': 0.00014110438, 'obscene': 0.00090072636, 'threat': 0.0002208507, 'insult': 0.0007348252, 'identity_hate': 0.00015611762}\n",
            "@ByKimberleyA I thought we learned our lesson from Lamar Jackson about fitting people into boxes…  It’s like Fields isn’t allowed to grow, make mistakes, or look terrible. He has to run and then when he does, he’ll be criticized for not being a pocket passer. Can’t win either way.🥴\n",
            "{'toxic': 0.014182849, 'severe_toxic': 0.00018657607, 'obscene': 0.0021194618, 'threat': 0.00040985414, 'insult': 0.0029637741, 'identity_hate': 0.00043999538}\n",
            "@FieldGulls Yea no one saw Geno coming. It's still early in the season but, it's also true that the schedule would be slightly different if Russ was still on the team. I wouldn't say the Falcons, Lions, or Saints are great primetime matchups.\n",
            "{'toxic': 0.0012453403, 'severe_toxic': 0.00018365931, 'obscene': 0.00059047766, 'threat': 0.00030985154, 'insult': 0.0004687888, 'identity_hate': 0.00017982694}\n",
            "@JoRo_NFL I'll never understand teams that get amazing depth at a position and decide it's time to move off a player. It's even weirder because most of this is motivated by Browning's play in a couple of games.\n",
            "{'toxic': 0.0021255752, 'severe_toxic': 0.00014979455, 'obscene': 0.00078938785, 'threat': 0.00024606363, 'insult': 0.0005669095, 'identity_hate': 0.00017808985}\n",
            "Listening to Sherman, Fitzpatrick, and Whitworth on the post game show discussing Justin Fields, you'd think they were talking about Lamar Jackson. There's this desire to force these QBs into a box instead of letting them go through the same growing pains as any pocket QB.\n",
            "{'toxic': 0.004079149, 'severe_toxic': 0.00014453552, 'obscene': 0.0010913075, 'threat': 0.00028847385, 'insult': 0.00091649144, 'identity_hate': 0.00024258043}\n",
            "@ZacStevensDNVR They're having too many negative plays. On 3rd &amp; 7 or below for example Russ is converting on 62% of throws past the sticks. For context Mahomes and Herbert are 50%.   Russ has the most attempts on 3rd &amp; 8 or more. False starts, penalties. Main things to clean up.\n",
            "{'toxic': 0.012828826, 'severe_toxic': 0.00016807226, 'obscene': 0.0023170577, 'threat': 0.00025000362, 'insult': 0.0020826834, 'identity_hate': 0.0003548138}\n",
            "@Travis94914418 @tvmvki @2nPac @kingston450 If your first response to race is \"black, white, whatever\" you're exposing that you can't be taken seriously. Russ is by all accounts a good human. Sherman and others are not. Somehow, it's difficult for ppl like you to accept that Sherm and others were cancers in the locker room\n",
            "{'toxic': 0.06445083, 'severe_toxic': 0.00032193615, 'obscene': 0.0042299083, 'threat': 0.00079074904, 'insult': 0.0087385075, 'identity_hate': 0.0035540962}\n"
          ]
        }
      ],
      "source": [
        "for tweet in tweets['maestroxv_']:\n",
        "    print(tweet['tweet'])\n",
        "    print(predict_text_class([tweet['tweet']]))"
      ]
    },
    {
      "cell_type": "code",
      "source": [],
      "metadata": {
        "id": "eXbort5Jz2AF"
      },
      "execution_count": null,
      "outputs": []
    }
  ],
  "metadata": {
    "accelerator": "GPU",
    "colab": {
      "collapsed_sections": [],
      "provenance": []
    },
    "gpuClass": "standard",
    "interpreter": {
      "hash": "b0fa6594d8f4cbf19f97940f81e996739fb7646882a419484c72d19e05852a7e"
    },
    "kernelspec": {
      "display_name": "Python 3.9.13 64-bit",
      "language": "python",
      "name": "python3"
    },
    "language_info": {
      "codemirror_mode": {
        "name": "ipython",
        "version": 3
      },
      "file_extension": ".py",
      "mimetype": "text/x-python",
      "name": "python",
      "nbconvert_exporter": "python",
      "pygments_lexer": "ipython3",
      "version": "3.10.6"
    },
    "widgets": {
      "application/vnd.jupyter.widget-state+json": {
        "0018016355954a2d9a8a0e1185802a55": {
          "model_module": "@jupyter-widgets/controls",
          "model_module_version": "1.5.0",
          "model_name": "DescriptionStyleModel",
          "state": {
            "_model_module": "@jupyter-widgets/controls",
            "_model_module_version": "1.5.0",
            "_model_name": "DescriptionStyleModel",
            "_view_count": null,
            "_view_module": "@jupyter-widgets/base",
            "_view_module_version": "1.2.0",
            "_view_name": "StyleView",
            "description_width": ""
          }
        },
        "0698c0e63e4d43859898af87aa148dbd": {
          "model_module": "@jupyter-widgets/controls",
          "model_module_version": "1.5.0",
          "model_name": "HBoxModel",
          "state": {
            "_dom_classes": [],
            "_model_module": "@jupyter-widgets/controls",
            "_model_module_version": "1.5.0",
            "_model_name": "HBoxModel",
            "_view_count": null,
            "_view_module": "@jupyter-widgets/controls",
            "_view_module_version": "1.5.0",
            "_view_name": "HBoxView",
            "box_style": "",
            "children": [
              "IPY_MODEL_e692d8a0d1c34dfdaf9764a3a2ffac2c",
              "IPY_MODEL_46ad9054ec0942be9ea4451dfcda68b4",
              "IPY_MODEL_6e10446538e94b5288a779286d85cd2e"
            ],
            "layout": "IPY_MODEL_20283bacdb5344d682fd58f77c63a364"
          }
        },
        "0a284ab45f50432cbc19c5c42c9846ab": {
          "model_module": "@jupyter-widgets/base",
          "model_module_version": "1.2.0",
          "model_name": "LayoutModel",
          "state": {
            "_model_module": "@jupyter-widgets/base",
            "_model_module_version": "1.2.0",
            "_model_name": "LayoutModel",
            "_view_count": null,
            "_view_module": "@jupyter-widgets/base",
            "_view_module_version": "1.2.0",
            "_view_name": "LayoutView",
            "align_content": null,
            "align_items": null,
            "align_self": null,
            "border": null,
            "bottom": null,
            "display": null,
            "flex": null,
            "flex_flow": null,
            "grid_area": null,
            "grid_auto_columns": null,
            "grid_auto_flow": null,
            "grid_auto_rows": null,
            "grid_column": null,
            "grid_gap": null,
            "grid_row": null,
            "grid_template_areas": null,
            "grid_template_columns": null,
            "grid_template_rows": null,
            "height": null,
            "justify_content": null,
            "justify_items": null,
            "left": null,
            "margin": null,
            "max_height": null,
            "max_width": null,
            "min_height": null,
            "min_width": null,
            "object_fit": null,
            "object_position": null,
            "order": null,
            "overflow": null,
            "overflow_x": null,
            "overflow_y": null,
            "padding": null,
            "right": null,
            "top": null,
            "visibility": null,
            "width": null
          }
        },
        "198a41f4917b45deaec7ebcc0deb9032": {
          "model_module": "@jupyter-widgets/controls",
          "model_module_version": "1.5.0",
          "model_name": "DescriptionStyleModel",
          "state": {
            "_model_module": "@jupyter-widgets/controls",
            "_model_module_version": "1.5.0",
            "_model_name": "DescriptionStyleModel",
            "_view_count": null,
            "_view_module": "@jupyter-widgets/base",
            "_view_module_version": "1.2.0",
            "_view_name": "StyleView",
            "description_width": ""
          }
        },
        "20283bacdb5344d682fd58f77c63a364": {
          "model_module": "@jupyter-widgets/base",
          "model_module_version": "1.2.0",
          "model_name": "LayoutModel",
          "state": {
            "_model_module": "@jupyter-widgets/base",
            "_model_module_version": "1.2.0",
            "_model_name": "LayoutModel",
            "_view_count": null,
            "_view_module": "@jupyter-widgets/base",
            "_view_module_version": "1.2.0",
            "_view_name": "LayoutView",
            "align_content": null,
            "align_items": null,
            "align_self": null,
            "border": null,
            "bottom": null,
            "display": null,
            "flex": null,
            "flex_flow": null,
            "grid_area": null,
            "grid_auto_columns": null,
            "grid_auto_flow": null,
            "grid_auto_rows": null,
            "grid_column": null,
            "grid_gap": null,
            "grid_row": null,
            "grid_template_areas": null,
            "grid_template_columns": null,
            "grid_template_rows": null,
            "height": null,
            "justify_content": null,
            "justify_items": null,
            "left": null,
            "margin": null,
            "max_height": null,
            "max_width": null,
            "min_height": null,
            "min_width": null,
            "object_fit": null,
            "object_position": null,
            "order": null,
            "overflow": null,
            "overflow_x": null,
            "overflow_y": null,
            "padding": null,
            "right": null,
            "top": null,
            "visibility": null,
            "width": null
          }
        },
        "2100df4e99b04c9890f110b6a59f7b83": {
          "model_module": "@jupyter-widgets/controls",
          "model_module_version": "1.5.0",
          "model_name": "ProgressStyleModel",
          "state": {
            "_model_module": "@jupyter-widgets/controls",
            "_model_module_version": "1.5.0",
            "_model_name": "ProgressStyleModel",
            "_view_count": null,
            "_view_module": "@jupyter-widgets/base",
            "_view_module_version": "1.2.0",
            "_view_name": "StyleView",
            "bar_color": null,
            "description_width": ""
          }
        },
        "3b33d865a4e5464eb22e0981739ce081": {
          "model_module": "@jupyter-widgets/base",
          "model_module_version": "1.2.0",
          "model_name": "LayoutModel",
          "state": {
            "_model_module": "@jupyter-widgets/base",
            "_model_module_version": "1.2.0",
            "_model_name": "LayoutModel",
            "_view_count": null,
            "_view_module": "@jupyter-widgets/base",
            "_view_module_version": "1.2.0",
            "_view_name": "LayoutView",
            "align_content": null,
            "align_items": null,
            "align_self": null,
            "border": null,
            "bottom": null,
            "display": null,
            "flex": null,
            "flex_flow": null,
            "grid_area": null,
            "grid_auto_columns": null,
            "grid_auto_flow": null,
            "grid_auto_rows": null,
            "grid_column": null,
            "grid_gap": null,
            "grid_row": null,
            "grid_template_areas": null,
            "grid_template_columns": null,
            "grid_template_rows": null,
            "height": null,
            "justify_content": null,
            "justify_items": null,
            "left": null,
            "margin": null,
            "max_height": null,
            "max_width": null,
            "min_height": null,
            "min_width": null,
            "object_fit": null,
            "object_position": null,
            "order": null,
            "overflow": null,
            "overflow_x": null,
            "overflow_y": null,
            "padding": null,
            "right": null,
            "top": null,
            "visibility": null,
            "width": null
          }
        },
        "401319a1793644f2a7c9563d16486f5b": {
          "model_module": "@jupyter-widgets/controls",
          "model_module_version": "1.5.0",
          "model_name": "DescriptionStyleModel",
          "state": {
            "_model_module": "@jupyter-widgets/controls",
            "_model_module_version": "1.5.0",
            "_model_name": "DescriptionStyleModel",
            "_view_count": null,
            "_view_module": "@jupyter-widgets/base",
            "_view_module_version": "1.2.0",
            "_view_name": "StyleView",
            "description_width": ""
          }
        },
        "4477cc528307484b85043b7152a4c363": {
          "model_module": "@jupyter-widgets/controls",
          "model_module_version": "1.5.0",
          "model_name": "HTMLModel",
          "state": {
            "_dom_classes": [],
            "_model_module": "@jupyter-widgets/controls",
            "_model_module_version": "1.5.0",
            "_model_name": "HTMLModel",
            "_view_count": null,
            "_view_module": "@jupyter-widgets/controls",
            "_view_module_version": "1.5.0",
            "_view_name": "HTMLView",
            "description": "",
            "description_tooltip": null,
            "layout": "IPY_MODEL_d50167b9568b40edb4dab2b7af7b9404",
            "placeholder": "​",
            "style": "IPY_MODEL_630a8e0322f14a3f89d149941ae61d42",
            "value": " 4488/? [58:22&lt;00:00,  3.31s/it]"
          }
        },
        "46449d38e3c345cd81764d65af321c73": {
          "model_module": "@jupyter-widgets/controls",
          "model_module_version": "1.5.0",
          "model_name": "FloatProgressModel",
          "state": {
            "_dom_classes": [],
            "_model_module": "@jupyter-widgets/controls",
            "_model_module_version": "1.5.0",
            "_model_name": "FloatProgressModel",
            "_view_count": null,
            "_view_module": "@jupyter-widgets/controls",
            "_view_module_version": "1.5.0",
            "_view_name": "ProgressView",
            "bar_style": "success",
            "description": "",
            "description_tooltip": null,
            "layout": "IPY_MODEL_98c5c06c5eb247179b23eb0c5054169a",
            "max": 498,
            "min": 0,
            "orientation": "horizontal",
            "style": "IPY_MODEL_dad9019fbe584fbebec5a28a4d636cfa",
            "value": 498
          }
        },
        "46ad9054ec0942be9ea4451dfcda68b4": {
          "model_module": "@jupyter-widgets/controls",
          "model_module_version": "1.5.0",
          "model_name": "FloatProgressModel",
          "state": {
            "_dom_classes": [],
            "_model_module": "@jupyter-widgets/controls",
            "_model_module_version": "1.5.0",
            "_model_name": "FloatProgressModel",
            "_view_count": null,
            "_view_module": "@jupyter-widgets/controls",
            "_view_module_version": "1.5.0",
            "_view_name": "ProgressView",
            "bar_style": "success",
            "description": "",
            "description_tooltip": null,
            "layout": "IPY_MODEL_7982815811c54f7094ca5f53721f2be0",
            "max": 159571,
            "min": 0,
            "orientation": "horizontal",
            "style": "IPY_MODEL_5a19229fcc564e39b9a69fe4b7dd28fb",
            "value": 159571
          }
        },
        "4ba36a920b674c79ba44e44f162fb8d0": {
          "model_module": "@jupyter-widgets/controls",
          "model_module_version": "1.5.0",
          "model_name": "HBoxModel",
          "state": {
            "_dom_classes": [],
            "_model_module": "@jupyter-widgets/controls",
            "_model_module_version": "1.5.0",
            "_model_name": "HBoxModel",
            "_view_count": null,
            "_view_module": "@jupyter-widgets/controls",
            "_view_module_version": "1.5.0",
            "_view_name": "HBoxView",
            "box_style": "",
            "children": [
              "IPY_MODEL_5c773bbf105845fc868a9fa6eb5c4fde",
              "IPY_MODEL_ade0674226004f77836ae7f78bbe5d43",
              "IPY_MODEL_4477cc528307484b85043b7152a4c363"
            ],
            "layout": "IPY_MODEL_d133c2d49ca14209a302e0155f55af52"
          }
        },
        "4cbe04444f19478994d070d884071d3b": {
          "model_module": "@jupyter-widgets/base",
          "model_module_version": "1.2.0",
          "model_name": "LayoutModel",
          "state": {
            "_model_module": "@jupyter-widgets/base",
            "_model_module_version": "1.2.0",
            "_model_name": "LayoutModel",
            "_view_count": null,
            "_view_module": "@jupyter-widgets/base",
            "_view_module_version": "1.2.0",
            "_view_name": "LayoutView",
            "align_content": null,
            "align_items": null,
            "align_self": null,
            "border": null,
            "bottom": null,
            "display": null,
            "flex": null,
            "flex_flow": null,
            "grid_area": null,
            "grid_auto_columns": null,
            "grid_auto_flow": null,
            "grid_auto_rows": null,
            "grid_column": null,
            "grid_gap": null,
            "grid_row": null,
            "grid_template_areas": null,
            "grid_template_columns": null,
            "grid_template_rows": null,
            "height": null,
            "justify_content": null,
            "justify_items": null,
            "left": null,
            "margin": null,
            "max_height": null,
            "max_width": null,
            "min_height": null,
            "min_width": null,
            "object_fit": null,
            "object_position": null,
            "order": null,
            "overflow": null,
            "overflow_x": null,
            "overflow_y": null,
            "padding": null,
            "right": null,
            "top": null,
            "visibility": null,
            "width": null
          }
        },
        "5a19229fcc564e39b9a69fe4b7dd28fb": {
          "model_module": "@jupyter-widgets/controls",
          "model_module_version": "1.5.0",
          "model_name": "ProgressStyleModel",
          "state": {
            "_model_module": "@jupyter-widgets/controls",
            "_model_module_version": "1.5.0",
            "_model_name": "ProgressStyleModel",
            "_view_count": null,
            "_view_module": "@jupyter-widgets/base",
            "_view_module_version": "1.2.0",
            "_view_name": "StyleView",
            "bar_color": null,
            "description_width": ""
          }
        },
        "5c773bbf105845fc868a9fa6eb5c4fde": {
          "model_module": "@jupyter-widgets/controls",
          "model_module_version": "1.5.0",
          "model_name": "HTMLModel",
          "state": {
            "_dom_classes": [],
            "_model_module": "@jupyter-widgets/controls",
            "_model_module_version": "1.5.0",
            "_model_name": "HTMLModel",
            "_view_count": null,
            "_view_module": "@jupyter-widgets/controls",
            "_view_module_version": "1.5.0",
            "_view_name": "HTMLView",
            "description": "",
            "description_tooltip": null,
            "layout": "IPY_MODEL_4cbe04444f19478994d070d884071d3b",
            "placeholder": "​",
            "style": "IPY_MODEL_c916e61c0d274be280b1b27613bd5224",
            "value": ""
          }
        },
        "630a8e0322f14a3f89d149941ae61d42": {
          "model_module": "@jupyter-widgets/controls",
          "model_module_version": "1.5.0",
          "model_name": "DescriptionStyleModel",
          "state": {
            "_model_module": "@jupyter-widgets/controls",
            "_model_module_version": "1.5.0",
            "_model_name": "DescriptionStyleModel",
            "_view_count": null,
            "_view_module": "@jupyter-widgets/base",
            "_view_module_version": "1.2.0",
            "_view_name": "StyleView",
            "description_width": ""
          }
        },
        "6e10446538e94b5288a779286d85cd2e": {
          "model_module": "@jupyter-widgets/controls",
          "model_module_version": "1.5.0",
          "model_name": "HTMLModel",
          "state": {
            "_dom_classes": [],
            "_model_module": "@jupyter-widgets/controls",
            "_model_module_version": "1.5.0",
            "_model_name": "HTMLModel",
            "_view_count": null,
            "_view_module": "@jupyter-widgets/controls",
            "_view_module_version": "1.5.0",
            "_view_name": "HTMLView",
            "description": "",
            "description_tooltip": null,
            "layout": "IPY_MODEL_ed68bdda26374e61840469fb01c19d9e",
            "placeholder": "​",
            "style": "IPY_MODEL_401319a1793644f2a7c9563d16486f5b",
            "value": " 159571/159571 [04:37&lt;00:00, 563.00it/s]"
          }
        },
        "7982815811c54f7094ca5f53721f2be0": {
          "model_module": "@jupyter-widgets/base",
          "model_module_version": "1.2.0",
          "model_name": "LayoutModel",
          "state": {
            "_model_module": "@jupyter-widgets/base",
            "_model_module_version": "1.2.0",
            "_model_name": "LayoutModel",
            "_view_count": null,
            "_view_module": "@jupyter-widgets/base",
            "_view_module_version": "1.2.0",
            "_view_name": "LayoutView",
            "align_content": null,
            "align_items": null,
            "align_self": null,
            "border": null,
            "bottom": null,
            "display": null,
            "flex": null,
            "flex_flow": null,
            "grid_area": null,
            "grid_auto_columns": null,
            "grid_auto_flow": null,
            "grid_auto_rows": null,
            "grid_column": null,
            "grid_gap": null,
            "grid_row": null,
            "grid_template_areas": null,
            "grid_template_columns": null,
            "grid_template_rows": null,
            "height": null,
            "justify_content": null,
            "justify_items": null,
            "left": null,
            "margin": null,
            "max_height": null,
            "max_width": null,
            "min_height": null,
            "min_width": null,
            "object_fit": null,
            "object_position": null,
            "order": null,
            "overflow": null,
            "overflow_x": null,
            "overflow_y": null,
            "padding": null,
            "right": null,
            "top": null,
            "visibility": null,
            "width": null
          }
        },
        "79b63e4cb3ff424583afde31572d931f": {
          "model_module": "@jupyter-widgets/base",
          "model_module_version": "1.2.0",
          "model_name": "LayoutModel",
          "state": {
            "_model_module": "@jupyter-widgets/base",
            "_model_module_version": "1.2.0",
            "_model_name": "LayoutModel",
            "_view_count": null,
            "_view_module": "@jupyter-widgets/base",
            "_view_module_version": "1.2.0",
            "_view_name": "LayoutView",
            "align_content": null,
            "align_items": null,
            "align_self": null,
            "border": null,
            "bottom": null,
            "display": null,
            "flex": null,
            "flex_flow": null,
            "grid_area": null,
            "grid_auto_columns": null,
            "grid_auto_flow": null,
            "grid_auto_rows": null,
            "grid_column": null,
            "grid_gap": null,
            "grid_row": null,
            "grid_template_areas": null,
            "grid_template_columns": null,
            "grid_template_rows": null,
            "height": null,
            "justify_content": null,
            "justify_items": null,
            "left": null,
            "margin": null,
            "max_height": null,
            "max_width": null,
            "min_height": null,
            "min_width": null,
            "object_fit": null,
            "object_position": null,
            "order": null,
            "overflow": null,
            "overflow_x": null,
            "overflow_y": null,
            "padding": null,
            "right": null,
            "top": null,
            "visibility": null,
            "width": null
          }
        },
        "89fc9db561894d0eb893c1b8f022ece1": {
          "model_module": "@jupyter-widgets/controls",
          "model_module_version": "1.5.0",
          "model_name": "FloatProgressModel",
          "state": {
            "_dom_classes": [],
            "_model_module": "@jupyter-widgets/controls",
            "_model_module_version": "1.5.0",
            "_model_name": "FloatProgressModel",
            "_view_count": null,
            "_view_module": "@jupyter-widgets/controls",
            "_view_module_version": "1.5.0",
            "_view_name": "ProgressView",
            "bar_style": "danger",
            "description": "",
            "description_tooltip": null,
            "layout": "IPY_MODEL_951c8c14dff1454f844bd0c4528f3037",
            "max": 80,
            "min": 0,
            "orientation": "horizontal",
            "style": "IPY_MODEL_f701e1169fb044ad8ae12ac45d8cb6b1",
            "value": 2
          }
        },
        "8feeb35357ee4d63831b06c32065eb02": {
          "model_module": "@jupyter-widgets/controls",
          "model_module_version": "1.5.0",
          "model_name": "HTMLModel",
          "state": {
            "_dom_classes": [],
            "_model_module": "@jupyter-widgets/controls",
            "_model_module_version": "1.5.0",
            "_model_name": "HTMLModel",
            "_view_count": null,
            "_view_module": "@jupyter-widgets/controls",
            "_view_module_version": "1.5.0",
            "_view_name": "HTMLView",
            "description": "",
            "description_tooltip": null,
            "layout": "IPY_MODEL_0a284ab45f50432cbc19c5c42c9846ab",
            "placeholder": "​",
            "style": "IPY_MODEL_cbe72d5bd0964400af182940ac7700d6",
            "value": ""
          }
        },
        "92bfd6b13e784d8780bc7319aa2345c9": {
          "model_module": "@jupyter-widgets/base",
          "model_module_version": "1.2.0",
          "model_name": "LayoutModel",
          "state": {
            "_model_module": "@jupyter-widgets/base",
            "_model_module_version": "1.2.0",
            "_model_name": "LayoutModel",
            "_view_count": null,
            "_view_module": "@jupyter-widgets/base",
            "_view_module_version": "1.2.0",
            "_view_name": "LayoutView",
            "align_content": null,
            "align_items": null,
            "align_self": null,
            "border": null,
            "bottom": null,
            "display": null,
            "flex": null,
            "flex_flow": null,
            "grid_area": null,
            "grid_auto_columns": null,
            "grid_auto_flow": null,
            "grid_auto_rows": null,
            "grid_column": null,
            "grid_gap": null,
            "grid_row": null,
            "grid_template_areas": null,
            "grid_template_columns": null,
            "grid_template_rows": null,
            "height": null,
            "justify_content": null,
            "justify_items": null,
            "left": null,
            "margin": null,
            "max_height": null,
            "max_width": null,
            "min_height": null,
            "min_width": null,
            "object_fit": null,
            "object_position": null,
            "order": null,
            "overflow": null,
            "overflow_x": null,
            "overflow_y": null,
            "padding": null,
            "right": null,
            "top": null,
            "visibility": null,
            "width": null
          }
        },
        "951c8c14dff1454f844bd0c4528f3037": {
          "model_module": "@jupyter-widgets/base",
          "model_module_version": "1.2.0",
          "model_name": "LayoutModel",
          "state": {
            "_model_module": "@jupyter-widgets/base",
            "_model_module_version": "1.2.0",
            "_model_name": "LayoutModel",
            "_view_count": null,
            "_view_module": "@jupyter-widgets/base",
            "_view_module_version": "1.2.0",
            "_view_name": "LayoutView",
            "align_content": null,
            "align_items": null,
            "align_self": null,
            "border": null,
            "bottom": null,
            "display": null,
            "flex": null,
            "flex_flow": null,
            "grid_area": null,
            "grid_auto_columns": null,
            "grid_auto_flow": null,
            "grid_auto_rows": null,
            "grid_column": null,
            "grid_gap": null,
            "grid_row": null,
            "grid_template_areas": null,
            "grid_template_columns": null,
            "grid_template_rows": null,
            "height": null,
            "justify_content": null,
            "justify_items": null,
            "left": null,
            "margin": null,
            "max_height": null,
            "max_width": null,
            "min_height": null,
            "min_width": null,
            "object_fit": null,
            "object_position": null,
            "order": null,
            "overflow": null,
            "overflow_x": null,
            "overflow_y": null,
            "padding": null,
            "right": null,
            "top": null,
            "visibility": null,
            "width": null
          }
        },
        "98c5c06c5eb247179b23eb0c5054169a": {
          "model_module": "@jupyter-widgets/base",
          "model_module_version": "1.2.0",
          "model_name": "LayoutModel",
          "state": {
            "_model_module": "@jupyter-widgets/base",
            "_model_module_version": "1.2.0",
            "_model_name": "LayoutModel",
            "_view_count": null,
            "_view_module": "@jupyter-widgets/base",
            "_view_module_version": "1.2.0",
            "_view_name": "LayoutView",
            "align_content": null,
            "align_items": null,
            "align_self": null,
            "border": null,
            "bottom": null,
            "display": null,
            "flex": null,
            "flex_flow": null,
            "grid_area": null,
            "grid_auto_columns": null,
            "grid_auto_flow": null,
            "grid_auto_rows": null,
            "grid_column": null,
            "grid_gap": null,
            "grid_row": null,
            "grid_template_areas": null,
            "grid_template_columns": null,
            "grid_template_rows": null,
            "height": null,
            "justify_content": null,
            "justify_items": null,
            "left": null,
            "margin": null,
            "max_height": null,
            "max_width": null,
            "min_height": null,
            "min_width": null,
            "object_fit": null,
            "object_position": null,
            "order": null,
            "overflow": null,
            "overflow_x": null,
            "overflow_y": null,
            "padding": null,
            "right": null,
            "top": null,
            "visibility": null,
            "width": null
          }
        },
        "a38245c60d3844f1aade2877528d29a0": {
          "model_module": "@jupyter-widgets/controls",
          "model_module_version": "1.5.0",
          "model_name": "DescriptionStyleModel",
          "state": {
            "_model_module": "@jupyter-widgets/controls",
            "_model_module_version": "1.5.0",
            "_model_name": "DescriptionStyleModel",
            "_view_count": null,
            "_view_module": "@jupyter-widgets/base",
            "_view_module_version": "1.2.0",
            "_view_name": "StyleView",
            "description_width": ""
          }
        },
        "a43540e619d9413e87739759ee5edaf8": {
          "model_module": "@jupyter-widgets/controls",
          "model_module_version": "1.5.0",
          "model_name": "HTMLModel",
          "state": {
            "_dom_classes": [],
            "_model_module": "@jupyter-widgets/controls",
            "_model_module_version": "1.5.0",
            "_model_name": "HTMLModel",
            "_view_count": null,
            "_view_module": "@jupyter-widgets/controls",
            "_view_module_version": "1.5.0",
            "_view_name": "HTMLView",
            "description": "",
            "description_tooltip": null,
            "layout": "IPY_MODEL_92bfd6b13e784d8780bc7319aa2345c9",
            "placeholder": "​",
            "style": "IPY_MODEL_cf32aba8aba84fd98cdbe31413760d6a",
            "value": "  2%"
          }
        },
        "ade0674226004f77836ae7f78bbe5d43": {
          "model_module": "@jupyter-widgets/controls",
          "model_module_version": "1.5.0",
          "model_name": "FloatProgressModel",
          "state": {
            "_dom_classes": [],
            "_model_module": "@jupyter-widgets/controls",
            "_model_module_version": "1.5.0",
            "_model_name": "FloatProgressModel",
            "_view_count": null,
            "_view_module": "@jupyter-widgets/controls",
            "_view_module_version": "1.5.0",
            "_view_name": "ProgressView",
            "bar_style": "success",
            "description": "",
            "description_tooltip": null,
            "layout": "IPY_MODEL_ec8fab03e5874ecaa5cbfa71a9eed1be",
            "max": 4487,
            "min": 0,
            "orientation": "horizontal",
            "style": "IPY_MODEL_2100df4e99b04c9890f110b6a59f7b83",
            "value": 4487
          }
        },
        "ba006d8bac9445d487c775a54f256893": {
          "model_module": "@jupyter-widgets/base",
          "model_module_version": "1.2.0",
          "model_name": "LayoutModel",
          "state": {
            "_model_module": "@jupyter-widgets/base",
            "_model_module_version": "1.2.0",
            "_model_name": "LayoutModel",
            "_view_count": null,
            "_view_module": "@jupyter-widgets/base",
            "_view_module_version": "1.2.0",
            "_view_name": "LayoutView",
            "align_content": null,
            "align_items": null,
            "align_self": null,
            "border": null,
            "bottom": null,
            "display": null,
            "flex": null,
            "flex_flow": null,
            "grid_area": null,
            "grid_auto_columns": null,
            "grid_auto_flow": null,
            "grid_auto_rows": null,
            "grid_column": null,
            "grid_gap": null,
            "grid_row": null,
            "grid_template_areas": null,
            "grid_template_columns": null,
            "grid_template_rows": null,
            "height": null,
            "justify_content": null,
            "justify_items": null,
            "left": null,
            "margin": null,
            "max_height": null,
            "max_width": null,
            "min_height": null,
            "min_width": null,
            "object_fit": null,
            "object_position": null,
            "order": null,
            "overflow": null,
            "overflow_x": null,
            "overflow_y": null,
            "padding": null,
            "right": null,
            "top": null,
            "visibility": null,
            "width": null
          }
        },
        "be5d87eaf1d4408996ae0ed647c951e9": {
          "model_module": "@jupyter-widgets/controls",
          "model_module_version": "1.5.0",
          "model_name": "HTMLModel",
          "state": {
            "_dom_classes": [],
            "_model_module": "@jupyter-widgets/controls",
            "_model_module_version": "1.5.0",
            "_model_name": "HTMLModel",
            "_view_count": null,
            "_view_module": "@jupyter-widgets/controls",
            "_view_module_version": "1.5.0",
            "_view_name": "HTMLView",
            "description": "",
            "description_tooltip": null,
            "layout": "IPY_MODEL_dcbb7ab52c3943ec90ad451382cc93ae",
            "placeholder": "​",
            "style": "IPY_MODEL_0018016355954a2d9a8a0e1185802a55",
            "value": " 499/? [02:17&lt;00:00,  1.05it/s]"
          }
        },
        "c916e61c0d274be280b1b27613bd5224": {
          "model_module": "@jupyter-widgets/controls",
          "model_module_version": "1.5.0",
          "model_name": "DescriptionStyleModel",
          "state": {
            "_model_module": "@jupyter-widgets/controls",
            "_model_module_version": "1.5.0",
            "_model_name": "DescriptionStyleModel",
            "_view_count": null,
            "_view_module": "@jupyter-widgets/base",
            "_view_module_version": "1.2.0",
            "_view_name": "StyleView",
            "description_width": ""
          }
        },
        "cbe72d5bd0964400af182940ac7700d6": {
          "model_module": "@jupyter-widgets/controls",
          "model_module_version": "1.5.0",
          "model_name": "DescriptionStyleModel",
          "state": {
            "_model_module": "@jupyter-widgets/controls",
            "_model_module_version": "1.5.0",
            "_model_name": "DescriptionStyleModel",
            "_view_count": null,
            "_view_module": "@jupyter-widgets/base",
            "_view_module_version": "1.2.0",
            "_view_name": "StyleView",
            "description_width": ""
          }
        },
        "cf32aba8aba84fd98cdbe31413760d6a": {
          "model_module": "@jupyter-widgets/controls",
          "model_module_version": "1.5.0",
          "model_name": "DescriptionStyleModel",
          "state": {
            "_model_module": "@jupyter-widgets/controls",
            "_model_module_version": "1.5.0",
            "_model_name": "DescriptionStyleModel",
            "_view_count": null,
            "_view_module": "@jupyter-widgets/base",
            "_view_module_version": "1.2.0",
            "_view_name": "StyleView",
            "description_width": ""
          }
        },
        "d133c2d49ca14209a302e0155f55af52": {
          "model_module": "@jupyter-widgets/base",
          "model_module_version": "1.2.0",
          "model_name": "LayoutModel",
          "state": {
            "_model_module": "@jupyter-widgets/base",
            "_model_module_version": "1.2.0",
            "_model_name": "LayoutModel",
            "_view_count": null,
            "_view_module": "@jupyter-widgets/base",
            "_view_module_version": "1.2.0",
            "_view_name": "LayoutView",
            "align_content": null,
            "align_items": null,
            "align_self": null,
            "border": null,
            "bottom": null,
            "display": null,
            "flex": null,
            "flex_flow": null,
            "grid_area": null,
            "grid_auto_columns": null,
            "grid_auto_flow": null,
            "grid_auto_rows": null,
            "grid_column": null,
            "grid_gap": null,
            "grid_row": null,
            "grid_template_areas": null,
            "grid_template_columns": null,
            "grid_template_rows": null,
            "height": null,
            "justify_content": null,
            "justify_items": null,
            "left": null,
            "margin": null,
            "max_height": null,
            "max_width": null,
            "min_height": null,
            "min_width": null,
            "object_fit": null,
            "object_position": null,
            "order": null,
            "overflow": null,
            "overflow_x": null,
            "overflow_y": null,
            "padding": null,
            "right": null,
            "top": null,
            "visibility": null,
            "width": null
          }
        },
        "d50167b9568b40edb4dab2b7af7b9404": {
          "model_module": "@jupyter-widgets/base",
          "model_module_version": "1.2.0",
          "model_name": "LayoutModel",
          "state": {
            "_model_module": "@jupyter-widgets/base",
            "_model_module_version": "1.2.0",
            "_model_name": "LayoutModel",
            "_view_count": null,
            "_view_module": "@jupyter-widgets/base",
            "_view_module_version": "1.2.0",
            "_view_name": "LayoutView",
            "align_content": null,
            "align_items": null,
            "align_self": null,
            "border": null,
            "bottom": null,
            "display": null,
            "flex": null,
            "flex_flow": null,
            "grid_area": null,
            "grid_auto_columns": null,
            "grid_auto_flow": null,
            "grid_auto_rows": null,
            "grid_column": null,
            "grid_gap": null,
            "grid_row": null,
            "grid_template_areas": null,
            "grid_template_columns": null,
            "grid_template_rows": null,
            "height": null,
            "justify_content": null,
            "justify_items": null,
            "left": null,
            "margin": null,
            "max_height": null,
            "max_width": null,
            "min_height": null,
            "min_width": null,
            "object_fit": null,
            "object_position": null,
            "order": null,
            "overflow": null,
            "overflow_x": null,
            "overflow_y": null,
            "padding": null,
            "right": null,
            "top": null,
            "visibility": null,
            "width": null
          }
        },
        "d630a4caeca14c5cbc019a2a6e02ded6": {
          "model_module": "@jupyter-widgets/controls",
          "model_module_version": "1.5.0",
          "model_name": "HBoxModel",
          "state": {
            "_dom_classes": [],
            "_model_module": "@jupyter-widgets/controls",
            "_model_module_version": "1.5.0",
            "_model_name": "HBoxModel",
            "_view_count": null,
            "_view_module": "@jupyter-widgets/controls",
            "_view_module_version": "1.5.0",
            "_view_name": "HBoxView",
            "box_style": "",
            "children": [
              "IPY_MODEL_8feeb35357ee4d63831b06c32065eb02",
              "IPY_MODEL_46449d38e3c345cd81764d65af321c73",
              "IPY_MODEL_be5d87eaf1d4408996ae0ed647c951e9"
            ],
            "layout": "IPY_MODEL_3b33d865a4e5464eb22e0981739ce081"
          }
        },
        "dad9019fbe584fbebec5a28a4d636cfa": {
          "model_module": "@jupyter-widgets/controls",
          "model_module_version": "1.5.0",
          "model_name": "ProgressStyleModel",
          "state": {
            "_model_module": "@jupyter-widgets/controls",
            "_model_module_version": "1.5.0",
            "_model_name": "ProgressStyleModel",
            "_view_count": null,
            "_view_module": "@jupyter-widgets/base",
            "_view_module_version": "1.2.0",
            "_view_name": "StyleView",
            "bar_color": null,
            "description_width": ""
          }
        },
        "dcbb7ab52c3943ec90ad451382cc93ae": {
          "model_module": "@jupyter-widgets/base",
          "model_module_version": "1.2.0",
          "model_name": "LayoutModel",
          "state": {
            "_model_module": "@jupyter-widgets/base",
            "_model_module_version": "1.2.0",
            "_model_name": "LayoutModel",
            "_view_count": null,
            "_view_module": "@jupyter-widgets/base",
            "_view_module_version": "1.2.0",
            "_view_name": "LayoutView",
            "align_content": null,
            "align_items": null,
            "align_self": null,
            "border": null,
            "bottom": null,
            "display": null,
            "flex": null,
            "flex_flow": null,
            "grid_area": null,
            "grid_auto_columns": null,
            "grid_auto_flow": null,
            "grid_auto_rows": null,
            "grid_column": null,
            "grid_gap": null,
            "grid_row": null,
            "grid_template_areas": null,
            "grid_template_columns": null,
            "grid_template_rows": null,
            "height": null,
            "justify_content": null,
            "justify_items": null,
            "left": null,
            "margin": null,
            "max_height": null,
            "max_width": null,
            "min_height": null,
            "min_width": null,
            "object_fit": null,
            "object_position": null,
            "order": null,
            "overflow": null,
            "overflow_x": null,
            "overflow_y": null,
            "padding": null,
            "right": null,
            "top": null,
            "visibility": null,
            "width": null
          }
        },
        "de2784a953214abc9624481249b51a39": {
          "model_module": "@jupyter-widgets/controls",
          "model_module_version": "1.5.0",
          "model_name": "HBoxModel",
          "state": {
            "_dom_classes": [],
            "_model_module": "@jupyter-widgets/controls",
            "_model_module_version": "1.5.0",
            "_model_name": "HBoxModel",
            "_view_count": null,
            "_view_module": "@jupyter-widgets/controls",
            "_view_module_version": "1.5.0",
            "_view_name": "HBoxView",
            "box_style": "",
            "children": [
              "IPY_MODEL_a43540e619d9413e87739759ee5edaf8",
              "IPY_MODEL_89fc9db561894d0eb893c1b8f022ece1",
              "IPY_MODEL_dfb08476955048e8911f44e38992446a"
            ],
            "layout": "IPY_MODEL_79b63e4cb3ff424583afde31572d931f"
          }
        },
        "dfb08476955048e8911f44e38992446a": {
          "model_module": "@jupyter-widgets/controls",
          "model_module_version": "1.5.0",
          "model_name": "HTMLModel",
          "state": {
            "_dom_classes": [],
            "_model_module": "@jupyter-widgets/controls",
            "_model_module_version": "1.5.0",
            "_model_name": "HTMLModel",
            "_view_count": null,
            "_view_module": "@jupyter-widgets/controls",
            "_view_module_version": "1.5.0",
            "_view_name": "HTMLView",
            "description": "",
            "description_tooltip": null,
            "layout": "IPY_MODEL_e757453f1b864bd6a675ce5befe6ef09",
            "placeholder": "​",
            "style": "IPY_MODEL_a38245c60d3844f1aade2877528d29a0",
            "value": " 2/80 [00:00&lt;00:26,  2.96it/s]"
          }
        },
        "e692d8a0d1c34dfdaf9764a3a2ffac2c": {
          "model_module": "@jupyter-widgets/controls",
          "model_module_version": "1.5.0",
          "model_name": "HTMLModel",
          "state": {
            "_dom_classes": [],
            "_model_module": "@jupyter-widgets/controls",
            "_model_module_version": "1.5.0",
            "_model_name": "HTMLModel",
            "_view_count": null,
            "_view_module": "@jupyter-widgets/controls",
            "_view_module_version": "1.5.0",
            "_view_name": "HTMLView",
            "description": "",
            "description_tooltip": null,
            "layout": "IPY_MODEL_ba006d8bac9445d487c775a54f256893",
            "placeholder": "​",
            "style": "IPY_MODEL_198a41f4917b45deaec7ebcc0deb9032",
            "value": "100%"
          }
        },
        "e757453f1b864bd6a675ce5befe6ef09": {
          "model_module": "@jupyter-widgets/base",
          "model_module_version": "1.2.0",
          "model_name": "LayoutModel",
          "state": {
            "_model_module": "@jupyter-widgets/base",
            "_model_module_version": "1.2.0",
            "_model_name": "LayoutModel",
            "_view_count": null,
            "_view_module": "@jupyter-widgets/base",
            "_view_module_version": "1.2.0",
            "_view_name": "LayoutView",
            "align_content": null,
            "align_items": null,
            "align_self": null,
            "border": null,
            "bottom": null,
            "display": null,
            "flex": null,
            "flex_flow": null,
            "grid_area": null,
            "grid_auto_columns": null,
            "grid_auto_flow": null,
            "grid_auto_rows": null,
            "grid_column": null,
            "grid_gap": null,
            "grid_row": null,
            "grid_template_areas": null,
            "grid_template_columns": null,
            "grid_template_rows": null,
            "height": null,
            "justify_content": null,
            "justify_items": null,
            "left": null,
            "margin": null,
            "max_height": null,
            "max_width": null,
            "min_height": null,
            "min_width": null,
            "object_fit": null,
            "object_position": null,
            "order": null,
            "overflow": null,
            "overflow_x": null,
            "overflow_y": null,
            "padding": null,
            "right": null,
            "top": null,
            "visibility": null,
            "width": null
          }
        },
        "ec8fab03e5874ecaa5cbfa71a9eed1be": {
          "model_module": "@jupyter-widgets/base",
          "model_module_version": "1.2.0",
          "model_name": "LayoutModel",
          "state": {
            "_model_module": "@jupyter-widgets/base",
            "_model_module_version": "1.2.0",
            "_model_name": "LayoutModel",
            "_view_count": null,
            "_view_module": "@jupyter-widgets/base",
            "_view_module_version": "1.2.0",
            "_view_name": "LayoutView",
            "align_content": null,
            "align_items": null,
            "align_self": null,
            "border": null,
            "bottom": null,
            "display": null,
            "flex": null,
            "flex_flow": null,
            "grid_area": null,
            "grid_auto_columns": null,
            "grid_auto_flow": null,
            "grid_auto_rows": null,
            "grid_column": null,
            "grid_gap": null,
            "grid_row": null,
            "grid_template_areas": null,
            "grid_template_columns": null,
            "grid_template_rows": null,
            "height": null,
            "justify_content": null,
            "justify_items": null,
            "left": null,
            "margin": null,
            "max_height": null,
            "max_width": null,
            "min_height": null,
            "min_width": null,
            "object_fit": null,
            "object_position": null,
            "order": null,
            "overflow": null,
            "overflow_x": null,
            "overflow_y": null,
            "padding": null,
            "right": null,
            "top": null,
            "visibility": null,
            "width": null
          }
        },
        "ed68bdda26374e61840469fb01c19d9e": {
          "model_module": "@jupyter-widgets/base",
          "model_module_version": "1.2.0",
          "model_name": "LayoutModel",
          "state": {
            "_model_module": "@jupyter-widgets/base",
            "_model_module_version": "1.2.0",
            "_model_name": "LayoutModel",
            "_view_count": null,
            "_view_module": "@jupyter-widgets/base",
            "_view_module_version": "1.2.0",
            "_view_name": "LayoutView",
            "align_content": null,
            "align_items": null,
            "align_self": null,
            "border": null,
            "bottom": null,
            "display": null,
            "flex": null,
            "flex_flow": null,
            "grid_area": null,
            "grid_auto_columns": null,
            "grid_auto_flow": null,
            "grid_auto_rows": null,
            "grid_column": null,
            "grid_gap": null,
            "grid_row": null,
            "grid_template_areas": null,
            "grid_template_columns": null,
            "grid_template_rows": null,
            "height": null,
            "justify_content": null,
            "justify_items": null,
            "left": null,
            "margin": null,
            "max_height": null,
            "max_width": null,
            "min_height": null,
            "min_width": null,
            "object_fit": null,
            "object_position": null,
            "order": null,
            "overflow": null,
            "overflow_x": null,
            "overflow_y": null,
            "padding": null,
            "right": null,
            "top": null,
            "visibility": null,
            "width": null
          }
        },
        "f701e1169fb044ad8ae12ac45d8cb6b1": {
          "model_module": "@jupyter-widgets/controls",
          "model_module_version": "1.5.0",
          "model_name": "ProgressStyleModel",
          "state": {
            "_model_module": "@jupyter-widgets/controls",
            "_model_module_version": "1.5.0",
            "_model_name": "ProgressStyleModel",
            "_view_count": null,
            "_view_module": "@jupyter-widgets/base",
            "_view_module_version": "1.2.0",
            "_view_name": "StyleView",
            "bar_color": null,
            "description_width": ""
          }
        },
        "b45e7348fa814dbba8b778085d74033e": {
          "model_module": "@jupyter-widgets/controls",
          "model_name": "HBoxModel",
          "model_module_version": "1.5.0",
          "state": {
            "_dom_classes": [],
            "_model_module": "@jupyter-widgets/controls",
            "_model_module_version": "1.5.0",
            "_model_name": "HBoxModel",
            "_view_count": null,
            "_view_module": "@jupyter-widgets/controls",
            "_view_module_version": "1.5.0",
            "_view_name": "HBoxView",
            "box_style": "",
            "children": [
              "IPY_MODEL_d08e9999ae184032ba3b3579af03c115",
              "IPY_MODEL_6f383dee7ffe4fd781bd81cf207dc49d",
              "IPY_MODEL_c1fa2d233d7c4dd7b08243a335ee8097"
            ],
            "layout": "IPY_MODEL_ed42ff29d51d4010ac8e98f165392775"
          }
        },
        "d08e9999ae184032ba3b3579af03c115": {
          "model_module": "@jupyter-widgets/controls",
          "model_name": "HTMLModel",
          "model_module_version": "1.5.0",
          "state": {
            "_dom_classes": [],
            "_model_module": "@jupyter-widgets/controls",
            "_model_module_version": "1.5.0",
            "_model_name": "HTMLModel",
            "_view_count": null,
            "_view_module": "@jupyter-widgets/controls",
            "_view_module_version": "1.5.0",
            "_view_name": "HTMLView",
            "description": "",
            "description_tooltip": null,
            "layout": "IPY_MODEL_6d60fc37f42f4c2581578d2e7fea3b5f",
            "placeholder": "​",
            "style": "IPY_MODEL_a50a729a228c4817ae7829d2b794bc3a",
            "value": ""
          }
        },
        "6f383dee7ffe4fd781bd81cf207dc49d": {
          "model_module": "@jupyter-widgets/controls",
          "model_name": "FloatProgressModel",
          "model_module_version": "1.5.0",
          "state": {
            "_dom_classes": [],
            "_model_module": "@jupyter-widgets/controls",
            "_model_module_version": "1.5.0",
            "_model_name": "FloatProgressModel",
            "_view_count": null,
            "_view_module": "@jupyter-widgets/controls",
            "_view_module_version": "1.5.0",
            "_view_name": "ProgressView",
            "bar_style": "success",
            "description": "",
            "description_tooltip": null,
            "layout": "IPY_MODEL_3f638a0ca76b4ebc8e8d3b026a260fe3",
            "max": 1,
            "min": 0,
            "orientation": "horizontal",
            "style": "IPY_MODEL_9036a93bef9b48d998a60fc35cccedae",
            "value": 0
          }
        },
        "c1fa2d233d7c4dd7b08243a335ee8097": {
          "model_module": "@jupyter-widgets/controls",
          "model_name": "HTMLModel",
          "model_module_version": "1.5.0",
          "state": {
            "_dom_classes": [],
            "_model_module": "@jupyter-widgets/controls",
            "_model_module_version": "1.5.0",
            "_model_name": "HTMLModel",
            "_view_count": null,
            "_view_module": "@jupyter-widgets/controls",
            "_view_module_version": "1.5.0",
            "_view_name": "HTMLView",
            "description": "",
            "description_tooltip": null,
            "layout": "IPY_MODEL_8a697267722141e9982d232f682c0dd8",
            "placeholder": "​",
            "style": "IPY_MODEL_73b783f776fd418ab54a29bcb3ae45e6",
            "value": " 0/0 [00:00&lt;?, ?it/s]"
          }
        },
        "ed42ff29d51d4010ac8e98f165392775": {
          "model_module": "@jupyter-widgets/base",
          "model_name": "LayoutModel",
          "model_module_version": "1.2.0",
          "state": {
            "_model_module": "@jupyter-widgets/base",
            "_model_module_version": "1.2.0",
            "_model_name": "LayoutModel",
            "_view_count": null,
            "_view_module": "@jupyter-widgets/base",
            "_view_module_version": "1.2.0",
            "_view_name": "LayoutView",
            "align_content": null,
            "align_items": null,
            "align_self": null,
            "border": null,
            "bottom": null,
            "display": null,
            "flex": null,
            "flex_flow": null,
            "grid_area": null,
            "grid_auto_columns": null,
            "grid_auto_flow": null,
            "grid_auto_rows": null,
            "grid_column": null,
            "grid_gap": null,
            "grid_row": null,
            "grid_template_areas": null,
            "grid_template_columns": null,
            "grid_template_rows": null,
            "height": null,
            "justify_content": null,
            "justify_items": null,
            "left": null,
            "margin": null,
            "max_height": null,
            "max_width": null,
            "min_height": null,
            "min_width": null,
            "object_fit": null,
            "object_position": null,
            "order": null,
            "overflow": null,
            "overflow_x": null,
            "overflow_y": null,
            "padding": null,
            "right": null,
            "top": null,
            "visibility": null,
            "width": null
          }
        },
        "6d60fc37f42f4c2581578d2e7fea3b5f": {
          "model_module": "@jupyter-widgets/base",
          "model_name": "LayoutModel",
          "model_module_version": "1.2.0",
          "state": {
            "_model_module": "@jupyter-widgets/base",
            "_model_module_version": "1.2.0",
            "_model_name": "LayoutModel",
            "_view_count": null,
            "_view_module": "@jupyter-widgets/base",
            "_view_module_version": "1.2.0",
            "_view_name": "LayoutView",
            "align_content": null,
            "align_items": null,
            "align_self": null,
            "border": null,
            "bottom": null,
            "display": null,
            "flex": null,
            "flex_flow": null,
            "grid_area": null,
            "grid_auto_columns": null,
            "grid_auto_flow": null,
            "grid_auto_rows": null,
            "grid_column": null,
            "grid_gap": null,
            "grid_row": null,
            "grid_template_areas": null,
            "grid_template_columns": null,
            "grid_template_rows": null,
            "height": null,
            "justify_content": null,
            "justify_items": null,
            "left": null,
            "margin": null,
            "max_height": null,
            "max_width": null,
            "min_height": null,
            "min_width": null,
            "object_fit": null,
            "object_position": null,
            "order": null,
            "overflow": null,
            "overflow_x": null,
            "overflow_y": null,
            "padding": null,
            "right": null,
            "top": null,
            "visibility": null,
            "width": null
          }
        },
        "a50a729a228c4817ae7829d2b794bc3a": {
          "model_module": "@jupyter-widgets/controls",
          "model_name": "DescriptionStyleModel",
          "model_module_version": "1.5.0",
          "state": {
            "_model_module": "@jupyter-widgets/controls",
            "_model_module_version": "1.5.0",
            "_model_name": "DescriptionStyleModel",
            "_view_count": null,
            "_view_module": "@jupyter-widgets/base",
            "_view_module_version": "1.2.0",
            "_view_name": "StyleView",
            "description_width": ""
          }
        },
        "3f638a0ca76b4ebc8e8d3b026a260fe3": {
          "model_module": "@jupyter-widgets/base",
          "model_name": "LayoutModel",
          "model_module_version": "1.2.0",
          "state": {
            "_model_module": "@jupyter-widgets/base",
            "_model_module_version": "1.2.0",
            "_model_name": "LayoutModel",
            "_view_count": null,
            "_view_module": "@jupyter-widgets/base",
            "_view_module_version": "1.2.0",
            "_view_name": "LayoutView",
            "align_content": null,
            "align_items": null,
            "align_self": null,
            "border": null,
            "bottom": null,
            "display": null,
            "flex": null,
            "flex_flow": null,
            "grid_area": null,
            "grid_auto_columns": null,
            "grid_auto_flow": null,
            "grid_auto_rows": null,
            "grid_column": null,
            "grid_gap": null,
            "grid_row": null,
            "grid_template_areas": null,
            "grid_template_columns": null,
            "grid_template_rows": null,
            "height": null,
            "justify_content": null,
            "justify_items": null,
            "left": null,
            "margin": null,
            "max_height": null,
            "max_width": null,
            "min_height": null,
            "min_width": null,
            "object_fit": null,
            "object_position": null,
            "order": null,
            "overflow": null,
            "overflow_x": null,
            "overflow_y": null,
            "padding": null,
            "right": null,
            "top": null,
            "visibility": null,
            "width": "20px"
          }
        },
        "9036a93bef9b48d998a60fc35cccedae": {
          "model_module": "@jupyter-widgets/controls",
          "model_name": "ProgressStyleModel",
          "model_module_version": "1.5.0",
          "state": {
            "_model_module": "@jupyter-widgets/controls",
            "_model_module_version": "1.5.0",
            "_model_name": "ProgressStyleModel",
            "_view_count": null,
            "_view_module": "@jupyter-widgets/base",
            "_view_module_version": "1.2.0",
            "_view_name": "StyleView",
            "bar_color": null,
            "description_width": ""
          }
        },
        "8a697267722141e9982d232f682c0dd8": {
          "model_module": "@jupyter-widgets/base",
          "model_name": "LayoutModel",
          "model_module_version": "1.2.0",
          "state": {
            "_model_module": "@jupyter-widgets/base",
            "_model_module_version": "1.2.0",
            "_model_name": "LayoutModel",
            "_view_count": null,
            "_view_module": "@jupyter-widgets/base",
            "_view_module_version": "1.2.0",
            "_view_name": "LayoutView",
            "align_content": null,
            "align_items": null,
            "align_self": null,
            "border": null,
            "bottom": null,
            "display": null,
            "flex": null,
            "flex_flow": null,
            "grid_area": null,
            "grid_auto_columns": null,
            "grid_auto_flow": null,
            "grid_auto_rows": null,
            "grid_column": null,
            "grid_gap": null,
            "grid_row": null,
            "grid_template_areas": null,
            "grid_template_columns": null,
            "grid_template_rows": null,
            "height": null,
            "justify_content": null,
            "justify_items": null,
            "left": null,
            "margin": null,
            "max_height": null,
            "max_width": null,
            "min_height": null,
            "min_width": null,
            "object_fit": null,
            "object_position": null,
            "order": null,
            "overflow": null,
            "overflow_x": null,
            "overflow_y": null,
            "padding": null,
            "right": null,
            "top": null,
            "visibility": null,
            "width": null
          }
        },
        "73b783f776fd418ab54a29bcb3ae45e6": {
          "model_module": "@jupyter-widgets/controls",
          "model_name": "DescriptionStyleModel",
          "model_module_version": "1.5.0",
          "state": {
            "_model_module": "@jupyter-widgets/controls",
            "_model_module_version": "1.5.0",
            "_model_name": "DescriptionStyleModel",
            "_view_count": null,
            "_view_module": "@jupyter-widgets/base",
            "_view_module_version": "1.2.0",
            "_view_name": "StyleView",
            "description_width": ""
          }
        }
      }
    }
  },
  "nbformat": 4,
  "nbformat_minor": 0
}